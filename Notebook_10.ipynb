{
  "nbformat": 4,
  "nbformat_minor": 0,
  "metadata": {
    "colab": {
      "provenance": [],
      "include_colab_link": true
    },
    "kernelspec": {
      "name": "python3",
      "display_name": "Python 3"
    },
    "language_info": {
      "name": "python"
    }
  },
  "cells": [
    {
      "cell_type": "markdown",
      "metadata": {
        "id": "view-in-github",
        "colab_type": "text"
      },
      "source": [
        "<a href=\"https://colab.research.google.com/github/carlosdev-ia/pia_curso2526/blob/Pruebas/Notebook_10.ipynb\" target=\"_parent\"><img src=\"https://colab.research.google.com/assets/colab-badge.svg\" alt=\"Open In Colab\"/></a>"
      ]
    },
    {
      "cell_type": "markdown",
      "source": [
        "# Libreria Pandas - Query()"
      ],
      "metadata": {
        "id": "mbrpOntEZodU"
      }
    },
    {
      "cell_type": "markdown",
      "source": [
        "## Ejercicio 1\n",
        "Teniendo el siguiente dataframe, realiza las siguientes tareas utilizando qyery():\n",
        "1. Filtra las personas mayores de 30 años con salario superior a 3000€\n",
        "2. Filtra con lista **in**, los empleados menores de 30 que viven en Madrid o Bilbao\n",
        "3. Usa una variable externa y filtra los que trabajen en Sevilla y cobren igual o más de 3000€\n",
        "4. Filtra personas jóvenes (menores de 25) o con salario alto (mayor a 3500€):\n",
        "5. Muestra el número de empleados de Madrid con salario mayor a 2500€"
      ],
      "metadata": {
        "id": "9dV1hvrSZrU-"
      }
    },
    {
      "cell_type": "code",
      "source": [
        "import pandas as pd\n",
        "\n",
        "data = {\n",
        "    \"nombre\": [\"Ana\", \"Luis\", \"Carlos\", \"Marta\", \"Sofía\", \"Pedro\"],\n",
        "    \"edad\": [23, 35, 19, 42, 28, 31],\n",
        "    \"ciudad\": [\"Madrid\", \"Sevilla\", \"Madrid\", \"Bilbao\", \"Madrid\", \"Sevilla\"],\n",
        "    \"salario\": [2500, 3200, 1800, 4000, 2900, 3100]\n",
        "}\n",
        "\n",
        "df = pd.DataFrame(data)\n",
        "\n",
        "# 1. Mayores de 30 y salario > 3000€\n",
        "df.query(\"edad > 30 and salario > 3000\")\n",
        "\n",
        "# 2. Menores de 30 que viven en Madrid o Bilbao\n",
        "df.query(\"edad < 30 and ciudad in ['Madrid', 'Bilbao']\")\n",
        "\n",
        "# 3. Variable externa: en Sevilla con salario ≥ 3000€\n",
        "ciudad_ext = 'Sevilla'\n",
        "df.query(\"ciudad == @ciudad_ext and salario >= 3000\")\n",
        "\n",
        "# 4. Jóvenes (<25) o salario alto (>3500)\n",
        "df.query(\"edad < 25 or salario > 3500\")\n",
        "\n",
        "# 5. Número de empleados de Madrid con salario > 2500€\n",
        "df.query(\"ciudad == 'Madrid' and salario > 2500\").shape[0]\n"
      ],
      "metadata": {
        "id": "zWw2rFgDMhDe"
      },
      "execution_count": null,
      "outputs": []
    }
  ]
}