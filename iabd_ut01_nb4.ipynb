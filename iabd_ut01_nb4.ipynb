{
  "nbformat": 4,
  "nbformat_minor": 0,
  "metadata": {
    "colab": {
      "provenance": [],
      "include_colab_link": true
    },
    "kernelspec": {
      "name": "python3",
      "display_name": "Python 3"
    },
    "language_info": {
      "name": "python"
    }
  },
  "cells": [
    {
      "cell_type": "markdown",
      "metadata": {
        "id": "view-in-github",
        "colab_type": "text"
      },
      "source": [
        "<a href=\"https://colab.research.google.com/github/carlosdev-ia/pia_curso2526/blob/main/iabd_ut01_nb4.ipynb\" target=\"_parent\"><img src=\"https://colab.research.google.com/assets/colab-badge.svg\" alt=\"Open In Colab\"/></a>"
      ]
    },
    {
      "cell_type": "markdown",
      "source": [
        "# Clases, Diccionarios y Listas"
      ],
      "metadata": {
        "id": "TcaVd3IJZRag"
      }
    },
    {
      "cell_type": "markdown",
      "source": [
        "Crea una clase Producto con atributos nombre, precio y stock.\n",
        "\n",
        "Crea una lista de productos:\n",
        "\n",
        "*   Muestra el valor total del inventario.\n",
        "*   Permite buscar un producto por nombre."
      ],
      "metadata": {
        "id": "oUM5DlbyZU-v"
      }
    },
    {
      "cell_type": "code",
      "source": [
        "class Producto:\n",
        "    def __init__(self, nombre, precio, stock):\n",
        "        self.nombre = nombre\n",
        "        self.precio = precio\n",
        "        self.stock = stock\n",
        "\n",
        "    def valor_total(self):\n",
        "        return self.precio * self.stock\n",
        "\n",
        "productos = [\n",
        "    Producto(\"Laptop\", 1200, 5),\n",
        "    Producto(\"Mouse\", 25, 20),\n",
        "    Producto(\"Teclado\", 45, 10)\n",
        "]\n",
        "\n",
        "# Valor total del inventario\n",
        "total = sum(p.valor_total() for p in productos)\n",
        "print(f\"Valor total del inventario: ${total}\")\n",
        "\n",
        "# Buscar producto\n",
        "nombre_buscar = input(\"Buscar producto: \").lower()\n",
        "encontrado = next((p for p in productos if p.nombre.lower() == nombre_buscar), None)\n",
        "\n",
        "if encontrado:\n",
        "    print(f\"{encontrado.nombre}: ${encontrado.precio}, Stock: {encontrado.stock}\")\n",
        "else:\n",
        "    print(\"Producto no encontrado.\")\n"
      ],
      "metadata": {
        "colab": {
          "base_uri": "https://localhost:8080/"
        },
        "id": "x3e15LRQZ2fq",
        "outputId": "036b3d3b-46a0-4fa5-8975-83c2cc111be7"
      },
      "execution_count": null,
      "outputs": [
        {
          "output_type": "stream",
          "name": "stdout",
          "text": [
            "Valor total del inventario: $6950\n",
            "Buscar producto: teclado\n",
            "Teclado: $45, Stock: 10\n"
          ]
        }
      ]
    },
    {
      "cell_type": "markdown",
      "source": [
        "Crea un programa que almacene una lista de productos.\n",
        "Cada producto tendrá:\n",
        "\n",
        "*  nombre\n",
        "*  precio\n",
        "*  categoría\n",
        "\n",
        "Luego, muestra los productos agrupados por categoría."
      ],
      "metadata": {
        "id": "KBjuWyOabHLv"
      }
    },
    {
      "cell_type": "code",
      "source": [
        "productos = [\n",
        "    {\"nombre\": \"Laptop\", \"precio\": 1200, \"categoria\": \"Electrónica\"},\n",
        "    {\"nombre\": \"Mouse\", \"precio\": 25, \"categoria\": \"Electrónica\"},\n",
        "    {\"nombre\": \"Camisa\", \"precio\": 30, \"categoria\": \"Ropa\"},\n",
        "    {\"nombre\": \"Pantalón\", \"precio\": 45, \"categoria\": \"Ropa\"},\n",
        "    {\"nombre\": \"Manzanas\", \"precio\": 2.5, \"categoria\": \"Alimentos\"}\n",
        "]\n",
        "\n",
        "# Agrupar por categoría\n",
        "categorias = {}\n",
        "\n",
        "for p in productos:\n",
        "    cat = p[\"categoria\"]\n",
        "    if cat not in categorias:\n",
        "        categorias[cat] = []\n",
        "    categorias[cat].append(p[\"nombre\"])\n",
        "\n",
        "# Mostrar resultado\n",
        "for cat, items in categorias.items():\n",
        "    print(f\"\\n{cat}:\")\n",
        "    for i in items:\n",
        "        print(f\" - {i}\")\n"
      ],
      "metadata": {
        "colab": {
          "base_uri": "https://localhost:8080/"
        },
        "id": "JazNfcavbPM-",
        "outputId": "3ffd5998-a166-4811-b491-34079b638a26"
      },
      "execution_count": null,
      "outputs": [
        {
          "output_type": "stream",
          "name": "stdout",
          "text": [
            "\n",
            "Electrónica:\n",
            " - Laptop\n",
            " - Mouse\n",
            "\n",
            "Ropa:\n",
            " - Camisa\n",
            " - Pantalón\n",
            "\n",
            "Alimentos:\n",
            " - Manzanas\n"
          ]
        }
      ]
    },
    {
      "cell_type": "markdown",
      "source": [
        "Implementa una clase Libro y una clase Biblioteca que permita:\n",
        "\n",
        "*   Agregar libros\n",
        "*   Buscar libros por autor\n",
        "*   Mostrar todos los libros disponibles"
      ],
      "metadata": {
        "id": "HrES2L2LaL78"
      }
    },
    {
      "cell_type": "code",
      "source": [
        "class Libro:\n",
        "    def __init__(self, titulo, autor, anio):\n",
        "        self.titulo = titulo\n",
        "        self.autor = autor\n",
        "        self.anio = anio\n",
        "\n",
        "class Biblioteca:\n",
        "    def __init__(self):\n",
        "        self.libros = []\n",
        "\n",
        "    def agregar_libro(self, libro):\n",
        "        self.libros.append(libro)\n",
        "\n",
        "    def buscar_por_autor(self, autor):\n",
        "        return [l for l in self.libros if l.autor.lower() == autor.lower()]\n",
        "\n",
        "    def mostrar_libros(self):\n",
        "        for l in self.libros:\n",
        "            print(f\"{l.titulo} - {l.autor} ({l.anio})\")\n",
        "\n",
        "# Ejemplo de uso\n",
        "biblio = Biblioteca()\n",
        "biblio.agregar_libro(Libro(\"1984\", \"George Orwell\", 1949))\n",
        "biblio.agregar_libro(Libro(\"Rebelión en la granja\", \"George Orwell\", 1945))\n",
        "biblio.agregar_libro(Libro(\"Cien años de soledad\", \"Gabriel García Márquez\", 1967))\n",
        "\n",
        "print(\"📚 Todos los libros:\")\n",
        "biblio.mostrar_libros()\n",
        "\n",
        "autor = input(\"\\nBuscar por autor: \")\n",
        "resultados = biblio.buscar_por_autor(autor)\n",
        "\n",
        "if resultados:\n",
        "    print(f\"\\nLibros de {autor}:\")\n",
        "    for l in resultados:\n",
        "        print(f\" - {l.titulo}\")\n",
        "else:\n",
        "    print(\"No se encontraron libros de ese autor.\")\n"
      ],
      "metadata": {
        "colab": {
          "base_uri": "https://localhost:8080/"
        },
        "id": "p6GXctQxaSSA",
        "outputId": "ac90e648-e428-4388-fdec-8e3c78b830b5"
      },
      "execution_count": null,
      "outputs": [
        {
          "output_type": "stream",
          "name": "stdout",
          "text": [
            "📚 Todos los libros:\n",
            "1984 - George Orwell (1949)\n",
            "Rebelión en la granja - George Orwell (1945)\n",
            "Cien años de soledad - Gabriel García Márquez (1967)\n",
            "\n",
            "Buscar por autor: orwell\n",
            "No se encontraron libros de ese autor.\n"
          ]
        }
      ]
    }
  ]
}