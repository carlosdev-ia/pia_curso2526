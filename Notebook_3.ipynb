{
  "nbformat": 4,
  "nbformat_minor": 0,
  "metadata": {
    "colab": {
      "provenance": [],
      "include_colab_link": true
    },
    "kernelspec": {
      "name": "python3",
      "display_name": "Python 3"
    },
    "language_info": {
      "name": "python"
    }
  },
  "cells": [
    {
      "cell_type": "markdown",
      "metadata": {
        "id": "view-in-github",
        "colab_type": "text"
      },
      "source": [
        "<a href=\"https://colab.research.google.com/github/carlosdev-ia/pia_curso2526/blob/main/Notebook_3.ipynb\" target=\"_parent\"><img src=\"https://colab.research.google.com/assets/colab-badge.svg\" alt=\"Open In Colab\"/></a>"
      ]
    },
    {
      "cell_type": "markdown",
      "source": [
        "# Clases y Objetos"
      ],
      "metadata": {
        "id": "_n6lM0I8IEXO"
      }
    },
    {
      "cell_type": "markdown",
      "source": [
        "Crea una clase llamada Coche que tenga los siguientes atributos:\n",
        "\n",
        "*   marca\n",
        "*   modelo\n",
        "*   color\n",
        "*   velocidad (empieza en 0)\n",
        "\n",
        "Y los siguientes métodos:\n",
        "\n",
        "*  acelerar(cantidad) → incrementa la velocidad.\n",
        "*  frenar(cantidad) → disminuye la velocidad, pero no puede ser menor a 0.\n",
        "*  mostrar_info() → imprime toda la información del coche"
      ],
      "metadata": {
        "id": "oE9Aie8YIIEr"
      }
    },
    {
      "cell_type": "code",
      "source": [
        "class Coche:\n",
        "    def __init__(self, marca, modelo, color):\n",
        "        self.marca = marca\n",
        "        self.modelo = modelo\n",
        "        self.color = color\n",
        "        self.velocidad = 0\n",
        "\n",
        "    def acelerar(self, cantidad):\n",
        "        self.velocidad += cantidad\n",
        "\n",
        "    def frenar(self, cantidad):\n",
        "        self.velocidad -= cantidad\n",
        "        if self.velocidad < 0:\n",
        "            self.velocidad = 0\n",
        "\n",
        "    def mostrar_info(self):\n",
        "        print(f\"{self.color} {self.marca} {self.modelo} - Velocidad: {self.velocidad} km/h\")\n",
        "\n",
        "\n",
        "# Ejemplo de uso\n",
        "mi_coche = Coche(\"Toyota\", \"Corolla\", \"Amarillo\")\n",
        "mi_coche.acelerar(50)\n",
        "mi_coche.frenar(20)\n",
        "mi_coche.mostrar_info()\n"
      ],
      "metadata": {
        "colab": {
          "base_uri": "https://localhost:8080/"
        },
        "id": "yr6s-D52JLje",
        "outputId": "bdcaf4b4-848f-4e76-b778-e530d7d4fbc4"
      },
      "execution_count": null,
      "outputs": [
        {
          "output_type": "stream",
          "name": "stdout",
          "text": [
            "Amarillo Toyota Corolla - Velocidad: 30 km/h\n"
          ]
        }
      ]
    },
    {
      "cell_type": "markdown",
      "source": [
        "Crea una clase llamada Estudiante que tenga los siguientes atributos:\n",
        "\n",
        "*   nombre\n",
        "*   edad\n",
        "*   notas ( lista de notas)\n",
        "\n",
        "Y los siguientes métodos:\n",
        "\n",
        "*  agregar_nota(nota) → añade una nota.\n",
        "*  calcular_media() → devuelve la nota media.\n",
        "*  mostrar_datos() → muestra el nombre, la edad y la nota media"
      ],
      "metadata": {
        "id": "CjwWewB2KPw7"
      }
    },
    {
      "cell_type": "code",
      "source": [
        "class Estudiante:\n",
        "    def __init__(self, nombre, edad):\n",
        "        self.nombre = nombre\n",
        "        self.edad = edad\n",
        "        self.notas = []\n",
        "\n",
        "    def agregar_nota(self, nota):\n",
        "        self.notas.append(nota)\n",
        "\n",
        "    def calcular_media(self):\n",
        "        if len(self.notas) == 0:\n",
        "            return 0\n",
        "        return sum(self.notas) / len(self.notas)\n",
        "\n",
        "    def mostrar_datos(self):\n",
        "        media = self.calcular_media()\n",
        "        print(f\"Nombre: {self.nombre} - Edad: {self.edad} - Media: {media:.2f}\")\n",
        "\n",
        "\n",
        "# Ejemplo de uso\n",
        "alumno = Estudiante(\"Lucía\", 17)\n",
        "alumno.agregar_nota(8)\n",
        "alumno.agregar_nota(9)\n",
        "alumno.agregar_nota(7)\n",
        "alumno.mostrar_datos()\n"
      ],
      "metadata": {
        "colab": {
          "base_uri": "https://localhost:8080/"
        },
        "id": "m5VB-ZT9LaPR",
        "outputId": "7b1e9b62-5c00-4985-c790-a7952523a0af"
      },
      "execution_count": null,
      "outputs": [
        {
          "output_type": "stream",
          "name": "stdout",
          "text": [
            "Nombre: Lucía - Edad: 17 - Media: 8.00\n"
          ]
        }
      ]
    },
    {
      "cell_type": "markdown",
      "source": [
        "Crea una clase llamada CuentaBancaria que tenga los siguientes atributos:\n",
        "\n",
        "*   titular\n",
        "*   saldo ( empieza con 0)\n",
        "\n",
        "Y los siguientes métodos:\n",
        "\n",
        "*  depositar(cantidad) → añade una nota.\n",
        "*  retirar(cantidad) → devuelve la nota media.\n",
        "*  mostrar_saldo()\n",
        "\n",
        "**Restricción:** no se puede retirar más de lo que hay."
      ],
      "metadata": {
        "id": "4pXlIvhzL5G1"
      }
    },
    {
      "cell_type": "code",
      "source": [
        "class CuentaBancaria:\n",
        "    def __init__(self, titular):\n",
        "        self.titular = titular\n",
        "        self.saldo = 0\n",
        "\n",
        "    def depositar(self, cantidad):\n",
        "        self.saldo += cantidad\n",
        "\n",
        "    def retirar(self, cantidad):\n",
        "        if cantidad <= self.saldo:\n",
        "            self.saldo -= cantidad\n",
        "        else:\n",
        "            print(\"Fondos insuficientes.\")\n",
        "\n",
        "    def mostrar_saldo(self):\n",
        "        print(f\"Titular: {self.titular} - Saldo: {self.saldo} €\")\n",
        "\n",
        "\n",
        "# Ejemplo de uso\n",
        "cuenta = CuentaBancaria(\"Carlos\")\n",
        "cuenta.depositar(1000)\n",
        "cuenta.retirar(300)\n",
        "cuenta.retirar(800)  # debe mostrar mensaje de error\n",
        "cuenta.mostrar_saldo()\n"
      ],
      "metadata": {
        "colab": {
          "base_uri": "https://localhost:8080/"
        },
        "id": "4Y3bPM3mMiao",
        "outputId": "bfe998c1-fe46-49b7-f304-aec684d1aa19"
      },
      "execution_count": null,
      "outputs": [
        {
          "output_type": "stream",
          "name": "stdout",
          "text": [
            "Fondos insuficientes.\n",
            "Titular: Carlos - Saldo: 700 €\n"
          ]
        }
      ]
    }
  ]
}