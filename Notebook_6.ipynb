{
  "nbformat": 4,
  "nbformat_minor": 0,
  "metadata": {
    "colab": {
      "provenance": [],
      "include_colab_link": true
    },
    "kernelspec": {
      "name": "python3",
      "display_name": "Python 3"
    },
    "language_info": {
      "name": "python"
    }
  },
  "cells": [
    {
      "cell_type": "markdown",
      "metadata": {
        "id": "view-in-github",
        "colab_type": "text"
      },
      "source": [
        "<a href=\"https://colab.research.google.com/github/carlosdev-ia/pia_curso2526/blob/main/Notebook_6.ipynb\" target=\"_parent\"><img src=\"https://colab.research.google.com/assets/colab-badge.svg\" alt=\"Open In Colab\"/></a>"
      ]
    },
    {
      "cell_type": "markdown",
      "source": [
        "# Librería Pandas"
      ],
      "metadata": {
        "id": "4t5xnpkhap6X"
      }
    },
    {
      "cell_type": "markdown",
      "source": [
        "# Enunciado\n",
        "El centro quiere analizar los resultados de los alumnos de varios módulos de FP.\n",
        "Dispones de un archivo CSV llamado \"notas.csv\" con las siguientes columnas:\n",
        "| Alumno | Módulo         | Nota |\n",
        "| ------ | -------------- | ---- |\n",
        "| Ana    | Programación   | 8.5  |\n",
        "| Luis   | Programación   | 6.0  |\n",
        "| Marta  | Bases de Datos | 9.0  |\n",
        "| Jorge  | Redes          | 5.5  |\n",
        "| Elena  | Bases de Datos | 7.5  |\n",
        "| Ana    | Redes          | 6.0  |\n",
        "| Luis   | Bases de Datos | 8.0  |\n",
        "| Jorge  | Programación   | 7.0  |\n",
        "\n",
        "Guarda este contenido en un archivo llamado \"notas.csv\"."
      ],
      "metadata": {
        "id": "ZgN1ZHMiasgJ"
      }
    },
    {
      "cell_type": "markdown",
      "source": [
        "##Ejercicio 1\n",
        "Lee el archivo \"notas.csv\" y muestra:\n",
        "* Las primeras filas\n",
        "* El número total de registros\n",
        "* Los módulos distintos que aparecen"
      ],
      "metadata": {
        "id": "US1l8naMe7aP"
      }
    },
    {
      "cell_type": "code",
      "source": [
        "import pandas as pd\n",
        "\n",
        "#Importar archivo\n",
        "from google.colab import files\n",
        "uploaded = files.upload()\n",
        "print()\n",
        "\n",
        "#Crear dataframe\n",
        "df = pd.read_csv('notas.csv')\n",
        "\n",
        "#Las primeras filas\n",
        "print(df.head())\n",
        "print()\n",
        "\n",
        "#El número total de registros\n",
        "print(f\"El número de registros es: {df.shape[0]}\")\n",
        "print()\n",
        "\n",
        "#Los módulos distintos que aparecen\n",
        "print(df['Módulo'].unique())\n"
      ],
      "metadata": {
        "colab": {
          "base_uri": "https://localhost:8080/",
          "height": 264
        },
        "id": "XMCRFzRUJ7iS",
        "outputId": "dd1b061f-29a1-4580-d157-106101542128"
      },
      "execution_count": 10,
      "outputs": [
        {
          "output_type": "display_data",
          "data": {
            "text/plain": [
              "<IPython.core.display.HTML object>"
            ],
            "text/html": [
              "\n",
              "     <input type=\"file\" id=\"files-74bdb694-5e4e-41b7-b81d-c6bfae955865\" name=\"files[]\" multiple disabled\n",
              "        style=\"border:none\" />\n",
              "     <output id=\"result-74bdb694-5e4e-41b7-b81d-c6bfae955865\">\n",
              "      Upload widget is only available when the cell has been executed in the\n",
              "      current browser session. Please rerun this cell to enable.\n",
              "      </output>\n",
              "      <script>// Copyright 2017 Google LLC\n",
              "//\n",
              "// Licensed under the Apache License, Version 2.0 (the \"License\");\n",
              "// you may not use this file except in compliance with the License.\n",
              "// You may obtain a copy of the License at\n",
              "//\n",
              "//      http://www.apache.org/licenses/LICENSE-2.0\n",
              "//\n",
              "// Unless required by applicable law or agreed to in writing, software\n",
              "// distributed under the License is distributed on an \"AS IS\" BASIS,\n",
              "// WITHOUT WARRANTIES OR CONDITIONS OF ANY KIND, either express or implied.\n",
              "// See the License for the specific language governing permissions and\n",
              "// limitations under the License.\n",
              "\n",
              "/**\n",
              " * @fileoverview Helpers for google.colab Python module.\n",
              " */\n",
              "(function(scope) {\n",
              "function span(text, styleAttributes = {}) {\n",
              "  const element = document.createElement('span');\n",
              "  element.textContent = text;\n",
              "  for (const key of Object.keys(styleAttributes)) {\n",
              "    element.style[key] = styleAttributes[key];\n",
              "  }\n",
              "  return element;\n",
              "}\n",
              "\n",
              "// Max number of bytes which will be uploaded at a time.\n",
              "const MAX_PAYLOAD_SIZE = 100 * 1024;\n",
              "\n",
              "function _uploadFiles(inputId, outputId) {\n",
              "  const steps = uploadFilesStep(inputId, outputId);\n",
              "  const outputElement = document.getElementById(outputId);\n",
              "  // Cache steps on the outputElement to make it available for the next call\n",
              "  // to uploadFilesContinue from Python.\n",
              "  outputElement.steps = steps;\n",
              "\n",
              "  return _uploadFilesContinue(outputId);\n",
              "}\n",
              "\n",
              "// This is roughly an async generator (not supported in the browser yet),\n",
              "// where there are multiple asynchronous steps and the Python side is going\n",
              "// to poll for completion of each step.\n",
              "// This uses a Promise to block the python side on completion of each step,\n",
              "// then passes the result of the previous step as the input to the next step.\n",
              "function _uploadFilesContinue(outputId) {\n",
              "  const outputElement = document.getElementById(outputId);\n",
              "  const steps = outputElement.steps;\n",
              "\n",
              "  const next = steps.next(outputElement.lastPromiseValue);\n",
              "  return Promise.resolve(next.value.promise).then((value) => {\n",
              "    // Cache the last promise value to make it available to the next\n",
              "    // step of the generator.\n",
              "    outputElement.lastPromiseValue = value;\n",
              "    return next.value.response;\n",
              "  });\n",
              "}\n",
              "\n",
              "/**\n",
              " * Generator function which is called between each async step of the upload\n",
              " * process.\n",
              " * @param {string} inputId Element ID of the input file picker element.\n",
              " * @param {string} outputId Element ID of the output display.\n",
              " * @return {!Iterable<!Object>} Iterable of next steps.\n",
              " */\n",
              "function* uploadFilesStep(inputId, outputId) {\n",
              "  const inputElement = document.getElementById(inputId);\n",
              "  inputElement.disabled = false;\n",
              "\n",
              "  const outputElement = document.getElementById(outputId);\n",
              "  outputElement.innerHTML = '';\n",
              "\n",
              "  const pickedPromise = new Promise((resolve) => {\n",
              "    inputElement.addEventListener('change', (e) => {\n",
              "      resolve(e.target.files);\n",
              "    });\n",
              "  });\n",
              "\n",
              "  const cancel = document.createElement('button');\n",
              "  inputElement.parentElement.appendChild(cancel);\n",
              "  cancel.textContent = 'Cancel upload';\n",
              "  const cancelPromise = new Promise((resolve) => {\n",
              "    cancel.onclick = () => {\n",
              "      resolve(null);\n",
              "    };\n",
              "  });\n",
              "\n",
              "  // Wait for the user to pick the files.\n",
              "  const files = yield {\n",
              "    promise: Promise.race([pickedPromise, cancelPromise]),\n",
              "    response: {\n",
              "      action: 'starting',\n",
              "    }\n",
              "  };\n",
              "\n",
              "  cancel.remove();\n",
              "\n",
              "  // Disable the input element since further picks are not allowed.\n",
              "  inputElement.disabled = true;\n",
              "\n",
              "  if (!files) {\n",
              "    return {\n",
              "      response: {\n",
              "        action: 'complete',\n",
              "      }\n",
              "    };\n",
              "  }\n",
              "\n",
              "  for (const file of files) {\n",
              "    const li = document.createElement('li');\n",
              "    li.append(span(file.name, {fontWeight: 'bold'}));\n",
              "    li.append(span(\n",
              "        `(${file.type || 'n/a'}) - ${file.size} bytes, ` +\n",
              "        `last modified: ${\n",
              "            file.lastModifiedDate ? file.lastModifiedDate.toLocaleDateString() :\n",
              "                                    'n/a'} - `));\n",
              "    const percent = span('0% done');\n",
              "    li.appendChild(percent);\n",
              "\n",
              "    outputElement.appendChild(li);\n",
              "\n",
              "    const fileDataPromise = new Promise((resolve) => {\n",
              "      const reader = new FileReader();\n",
              "      reader.onload = (e) => {\n",
              "        resolve(e.target.result);\n",
              "      };\n",
              "      reader.readAsArrayBuffer(file);\n",
              "    });\n",
              "    // Wait for the data to be ready.\n",
              "    let fileData = yield {\n",
              "      promise: fileDataPromise,\n",
              "      response: {\n",
              "        action: 'continue',\n",
              "      }\n",
              "    };\n",
              "\n",
              "    // Use a chunked sending to avoid message size limits. See b/62115660.\n",
              "    let position = 0;\n",
              "    do {\n",
              "      const length = Math.min(fileData.byteLength - position, MAX_PAYLOAD_SIZE);\n",
              "      const chunk = new Uint8Array(fileData, position, length);\n",
              "      position += length;\n",
              "\n",
              "      const base64 = btoa(String.fromCharCode.apply(null, chunk));\n",
              "      yield {\n",
              "        response: {\n",
              "          action: 'append',\n",
              "          file: file.name,\n",
              "          data: base64,\n",
              "        },\n",
              "      };\n",
              "\n",
              "      let percentDone = fileData.byteLength === 0 ?\n",
              "          100 :\n",
              "          Math.round((position / fileData.byteLength) * 100);\n",
              "      percent.textContent = `${percentDone}% done`;\n",
              "\n",
              "    } while (position < fileData.byteLength);\n",
              "  }\n",
              "\n",
              "  // All done.\n",
              "  yield {\n",
              "    response: {\n",
              "      action: 'complete',\n",
              "    }\n",
              "  };\n",
              "}\n",
              "\n",
              "scope.google = scope.google || {};\n",
              "scope.google.colab = scope.google.colab || {};\n",
              "scope.google.colab._files = {\n",
              "  _uploadFiles,\n",
              "  _uploadFilesContinue,\n",
              "};\n",
              "})(self);\n",
              "</script> "
            ]
          },
          "metadata": {}
        },
        {
          "output_type": "stream",
          "name": "stdout",
          "text": [
            "Saving notas.csv to notas (8).csv\n",
            "\n",
            "  Alumno          Módulo  Nota\n",
            "0    Ana    Programación   8.5\n",
            "1   Luis    Programación   6.0\n",
            "2  Marta  Bases de Datos   9.0\n",
            "3  Jorge           Redes   5.5\n",
            "4  Elena  Bases de Datos   7.5\n",
            "\n",
            "El número de registros es: 8\n",
            "\n",
            "['Programación' 'Bases de Datos' 'Redes']\n"
          ]
        }
      ]
    },
    {
      "cell_type": "markdown",
      "source": [
        "## Ejercicio 2\n",
        "Calcula la nota media de cada alumno (independientemente del módulo)\n",
        "y muestra los resultados en orden descendente."
      ],
      "metadata": {
        "id": "GFUOX0DtfZXl"
      }
    },
    {
      "cell_type": "code",
      "source": [
        "print(df.groupby('Alumno')['Nota'].mean().sort_values(ascending=False))"
      ],
      "metadata": {
        "colab": {
          "base_uri": "https://localhost:8080/"
        },
        "id": "CMzZC-SnM88-",
        "outputId": "075058aa-a0d6-44ee-ea4e-6f16f614d959"
      },
      "execution_count": 11,
      "outputs": [
        {
          "output_type": "stream",
          "name": "stdout",
          "text": [
            "Alumno\n",
            "Marta    9.00\n",
            "Elena    7.50\n",
            "Ana      7.25\n",
            "Luis     7.00\n",
            "Jorge    6.25\n",
            "Name: Nota, dtype: float64\n"
          ]
        }
      ]
    },
    {
      "cell_type": "markdown",
      "source": [
        "## Ejercicio 3\n",
        "Muestra la nota media obtenida en cada módulo."
      ],
      "metadata": {
        "id": "51jp_1BifgiJ"
      }
    },
    {
      "cell_type": "code",
      "source": [
        "print(df.groupby('Módulo')['Nota'].mean().sort_values(ascending=False))"
      ],
      "metadata": {
        "colab": {
          "base_uri": "https://localhost:8080/"
        },
        "id": "Ue0Y63RsO2cl",
        "outputId": "8782c1ef-8813-42fb-a806-a9bd0ba31133"
      },
      "execution_count": 13,
      "outputs": [
        {
          "output_type": "stream",
          "name": "stdout",
          "text": [
            "Módulo\n",
            "Bases de Datos    8.166667\n",
            "Programación      7.166667\n",
            "Redes             5.750000\n",
            "Name: Nota, dtype: float64\n"
          ]
        }
      ]
    },
    {
      "cell_type": "markdown",
      "source": [
        "## Ejercicio 4\n",
        "Crea una nueva columna \"Resultado\" con el valor:\n",
        "* \"Aprobado\" si la nota es ≥ 5\n",
        "* \"Suspenso\" si la nota es < 5"
      ],
      "metadata": {
        "id": "mggOvOWOfnuo"
      }
    },
    {
      "cell_type": "code",
      "source": [
        "df['Resultado'] = df['Nota'].apply(lambda x: 'Aprobado' if x >= 5 else 'Suspenso')\n",
        "print(df)"
      ],
      "metadata": {
        "colab": {
          "base_uri": "https://localhost:8080/"
        },
        "id": "uZblWhtNPCL3",
        "outputId": "f24ac1fd-3c4f-49c2-9152-7a1796989f5e"
      },
      "execution_count": 14,
      "outputs": [
        {
          "output_type": "stream",
          "name": "stdout",
          "text": [
            "  Alumno          Módulo  Nota Resultado\n",
            "0    Ana    Programación   8.5  Aprobado\n",
            "1   Luis    Programación   6.0  Aprobado\n",
            "2  Marta  Bases de Datos   9.0  Aprobado\n",
            "3  Jorge           Redes   5.5  Aprobado\n",
            "4  Elena  Bases de Datos   7.5  Aprobado\n",
            "5    Ana           Redes   6.0  Aprobado\n",
            "6   Luis  Bases de Datos   8.0  Aprobado\n",
            "7  Jorge    Programación   7.0  Aprobado\n"
          ]
        }
      ]
    },
    {
      "cell_type": "markdown",
      "source": [
        "## Ejercicio 5\n",
        "Muestra cuántos aprobados y suspensos hay en cada módulo."
      ],
      "metadata": {
        "id": "1Rr40SiFfwCJ"
      }
    },
    {
      "cell_type": "code",
      "source": [
        "print(df.groupby(['Módulo', 'Resultado']).size())\n"
      ],
      "metadata": {
        "colab": {
          "base_uri": "https://localhost:8080/"
        },
        "id": "XjUPuZKsPSlP",
        "outputId": "b6722197-2b4a-4c6a-8b67-3a3542d0ead9"
      },
      "execution_count": 15,
      "outputs": [
        {
          "output_type": "stream",
          "name": "stdout",
          "text": [
            "Módulo          Resultado\n",
            "Bases de Datos  Aprobado     3\n",
            "Programación    Aprobado     3\n",
            "Redes           Aprobado     2\n",
            "dtype: int64\n"
          ]
        }
      ]
    },
    {
      "cell_type": "markdown",
      "source": [
        "##Ejercicio 6\n",
        "Usando el DataFrame media_alumno, muestra el alumno con la mejor nota media."
      ],
      "metadata": {
        "id": "fIU_zx7Nf4eV"
      }
    },
    {
      "cell_type": "code",
      "source": [
        "media_alumno = df.groupby('Alumno')['Nota'].mean()\n",
        "print(media_alumno)\n",
        "print()\n",
        "print(media_alumno[media_alumno == media_alumno.max()])"
      ],
      "metadata": {
        "colab": {
          "base_uri": "https://localhost:8080/"
        },
        "id": "LjZZnWZUPggN",
        "outputId": "87ea4ff4-5901-44e4-caf4-58cd6b4348d1"
      },
      "execution_count": 20,
      "outputs": [
        {
          "output_type": "stream",
          "name": "stdout",
          "text": [
            "Alumno\n",
            "Ana      7.25\n",
            "Elena    7.50\n",
            "Jorge    6.25\n",
            "Luis     7.00\n",
            "Marta    9.00\n",
            "Name: Nota, dtype: float64\n",
            "\n",
            "Alumno\n",
            "Marta    9.0\n",
            "Name: Nota, dtype: float64\n"
          ]
        }
      ]
    },
    {
      "cell_type": "markdown",
      "source": [
        "##Ejercicio 7\n",
        "Guarda los resultados de las medias por alumno y por módulo en dos archivos CSV: \"media_por_alumno.csv\" y \"media_por_modulo.csv\""
      ],
      "metadata": {
        "id": "gWK1ZAFagARV"
      }
    },
    {
      "cell_type": "code",
      "source": [
        "#crear archivos en /content en el entorno  de coñab\n",
        "\n",
        "media_alumno.to_csv('media_por_alumno.csv')\n",
        "media_modulo = df.groupby('Módulo')['Nota'].mean()\n",
        "media_modulo.to_csv('media_por_modulo.csv')\n",
        "\n",
        "#Descargalos en el ordenado\n",
        "\n",
        "from google.colab import files\n",
        "files.download(\"media_por_alumno.csv\")\n",
        "files.download(\"media_por_modulo.csv\")\n"
      ],
      "metadata": {
        "id": "f26OT-vJQAZ8"
      },
      "execution_count": null,
      "outputs": []
    },
    {
      "cell_type": "markdown",
      "source": [
        "##Ejercicio 8\n",
        "Realiza un gráfico de barras con las medias por módulo usando **matplotlib**."
      ],
      "metadata": {
        "id": "-zqCNMLvgYFw"
      }
    },
    {
      "cell_type": "code",
      "source": [
        "import matplotlib.pyplot as plt\n",
        "\n",
        "# Calcular la media por módulo\n",
        "medias = df.groupby('Módulo')['Nota'].mean()\n",
        "\n",
        "# Mostrar los resultados en consola\n",
        "print(\"Medias por módulo:\")\n",
        "print(medias)\n",
        "\n",
        "# Crear el gráfico de barras\n",
        "plt.figure(figsize=(8, 5))\n",
        "plt.bar(medias.index, medias.values, color=['#5DADE2', '#58D68D', '#F5B041'])\n",
        "\n",
        "# Personalizar el gráfico\n",
        "plt.title(\"Media de Notas por Módulo\")\n",
        "plt.xlabel(\"Módulo\")\n",
        "plt.ylabel(\"Nota media\")\n",
        "plt.ylim(0, 10)\n",
        "plt.grid(axis='y', linestyle='--', alpha=0.6)\n",
        "\n",
        "# Mostrar el gráfico\n",
        "plt.show()\n"
      ],
      "metadata": {
        "colab": {
          "base_uri": "https://localhost:8080/",
          "height": 592
        },
        "id": "631l7iUeQ4tR",
        "outputId": "9ebe82a2-61aa-43a9-a34b-1866db13c475"
      },
      "execution_count": 21,
      "outputs": [
        {
          "output_type": "stream",
          "name": "stdout",
          "text": [
            "Medias por módulo:\n",
            "Módulo\n",
            "Bases de Datos    8.166667\n",
            "Programación      7.166667\n",
            "Redes             5.750000\n",
            "Name: Nota, dtype: float64\n"
          ]
        },
        {
          "output_type": "display_data",
          "data": {
            "text/plain": [
              "<Figure size 800x500 with 1 Axes>"
            ],
            "image/png": "[encoded data removed]"
          },
          "metadata": {}
        }
      ]
    }
  ]
}