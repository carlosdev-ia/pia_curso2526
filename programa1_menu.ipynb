{
  "nbformat": 4,
  "nbformat_minor": 0,
  "metadata": {
    "colab": {
      "provenance": [],
      "authorship_tag": "ABX9TyND8tjRplhwBD4dUChi1wUu",
      "include_colab_link": true
    },
    "kernelspec": {
      "name": "python3",
      "display_name": "Python 3"
    },
    "language_info": {
      "name": "python"
    }
  },
  "cells": [
    {
      "cell_type": "markdown",
      "metadata": {
        "id": "view-in-github",
        "colab_type": "text"
      },
      "source": [
        "<a href=\"https://colab.research.google.com/github/carlosdev-ia/pia_curso2526/blob/main/programa1_menu.ipynb\" target=\"_parent\"><img src=\"https://colab.research.google.com/assets/colab-badge.svg\" alt=\"Open In Colab\"/></a>"
      ]
    },
    {
      "cell_type": "code",
      "execution_count": null,
      "metadata": {
        "colab": {
          "base_uri": "https://localhost:8080/"
        },
        "id": "oQWOS892SIwe",
        "outputId": "fc6f7713-8d6c-42f7-f5db-0404e4f33bed"
      },
      "outputs": [
        {
          "output_type": "stream",
          "name": "stdout",
          "text": [
            "Bienvenido a tu agenda\n",
            "\n",
            "1. Añadir contacto\n",
            "2. Añadir dirección\n",
            "3. imprimir agenda\n",
            "4. Salir\n",
            "\n",
            "Elige una opción: 3\n",
            "\n",
            "la agenda esta vacia\n",
            "\n",
            "\n",
            "1. Añadir contacto\n",
            "2. Añadir dirección\n",
            "3. imprimir agenda\n",
            "4. Salir\n",
            "\n",
            "Elige una opción: 2\n",
            "\n",
            "escribe nombre del contacto: de\n",
            "\n",
            "el contacto de no existe\n",
            "\n",
            "\n",
            "1. Añadir contacto\n",
            "2. Añadir dirección\n",
            "3. imprimir agenda\n",
            "4. Salir\n",
            "\n",
            "Elige una opción: 1\n",
            "\n",
            "escribe tu nombre: carlos\n",
            "escribe tu telefono: 123\n",
            "\n",
            "1. Añadir contacto\n",
            "2. Añadir dirección\n",
            "3. imprimir agenda\n",
            "4. Salir\n",
            "\n",
            "Elige una opción: 2\n",
            "\n",
            "escribe nombre del contacto: carlos\n",
            "\n",
            "escribe tu direccion: canarias\n",
            "\n",
            "1. Añadir contacto\n",
            "2. Añadir dirección\n",
            "3. imprimir agenda\n",
            "4. Salir\n",
            "\n",
            "Elige una opción: 3\n",
            "{'nombre': 'carlos', 'telefono': '123', 'carlos': 'canarias'}\n",
            "\n",
            "1. Añadir contacto\n",
            "2. Añadir dirección\n",
            "3. imprimir agenda\n",
            "4. Salir\n",
            "\n",
            "Elige una opción: 1\n",
            "\n",
            "escribe tu nombre: luis\n",
            "escribe tu telefono: 456\n",
            "\n",
            "1. Añadir contacto\n",
            "2. Añadir dirección\n",
            "3. imprimir agenda\n",
            "4. Salir\n",
            "\n",
            "Elige una opción: 3\n",
            "{'nombre': 'luis', 'telefono': '456', 'carlos': 'canarias'}\n",
            "\n",
            "1. Añadir contacto\n",
            "2. Añadir dirección\n",
            "3. imprimir agenda\n",
            "4. Salir\n",
            "\n"
          ]
        }
      ],
      "source": [
        "def add_contact(agenda):\n",
        "  nombre = input(\"\\nescribe tu nombre: \")\n",
        "  telefono = input(\"escribe tu telefono: \")\n",
        "  agenda[\"nombre\"] = nombre\n",
        "  agenda[\"telefono\"] = telefono\n",
        "  return\n",
        "\n",
        "def add_direction(agenda):\n",
        "  nombre = input(\"\\nescribe nombre del contacto: \")\n",
        "  if nombre in agenda.values():\n",
        "    direccion = input(\"\\nescribe tu direccion: \")\n",
        "    agenda[nombre] = direccion\n",
        "  else:\n",
        "    print(f\"\\nel contacto {nombre} no existe\\n\")\n",
        "  return\n",
        "\n",
        "agenda = { }\n",
        "opcion = 0\n",
        "print(\"Bienvenido a tu agenda\")\n",
        "\n",
        "while opcion != 4:\n",
        "  print(\"\\n1. Añadir contacto\")\n",
        "  print(\"2. Añadir dirección\")\n",
        "  print(\"3. imprimir agenda\")\n",
        "  print(\"4. Salir\\n\")\n",
        "  opcion = int(input(\"Elige una opción: \"))\n",
        "\n",
        "  if opcion == 1:\n",
        "    add_contact(agenda)\n",
        "  elif opcion == 2:\n",
        "    add_direction(agenda)\n",
        "  elif opcion == 3:\n",
        "    if len(agenda) == 0:\n",
        "      print(\"\\nla agenda esta vacia\\n\")\n",
        "    else:\n",
        "      print(agenda)\n",
        "  elif opcion == 4:\n",
        "    print(\"adios\")\n",
        "  else:\n",
        "    print(\"opcion no valida, escoja una opcion valida\\n\")\n",
        "\n",
        "\n",
        "\n",
        "\n",
        "\n"
      ]
    },
    {
      "cell_type": "code",
      "source": [],
      "metadata": {
        "id": "dUcSmZGdW72M"
      },
      "execution_count": null,
      "outputs": []
    }
  ]
}