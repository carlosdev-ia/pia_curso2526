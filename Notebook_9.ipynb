{
  "nbformat": 4,
  "nbformat_minor": 0,
  "metadata": {
    "colab": {
      "provenance": [],
      "include_colab_link": true
    },
    "kernelspec": {
      "name": "python3",
      "display_name": "Python 3"
    },
    "language_info": {
      "name": "python"
    }
  },
  "cells": [
    {
      "cell_type": "markdown",
      "metadata": {
        "id": "view-in-github",
        "colab_type": "text"
      },
      "source": [
        "<a href=\"https://colab.research.google.com/github/carlosdev-ia/pia_curso2526/blob/Pruebas/Notebook_9.ipynb\" target=\"_parent\"><img src=\"https://colab.research.google.com/assets/colab-badge.svg\" alt=\"Open In Colab\"/></a>"
      ]
    },
    {
      "cell_type": "markdown",
      "source": [
        "# Libreria Pandas"
      ],
      "metadata": {
        "id": "OJxUmQjWGPk_"
      }
    },
    {
      "cell_type": "markdown",
      "source": [
        "## Enunciado\n",
        "Usando únicamente la librería pandas, realiza lo siguiente:\n",
        "\n",
        "1. Crea una Serie llamada paginas que contenga el número de páginas leídas por día durante una semana. Los días de la semana deben ser el índice de la serie.\n",
        "\n",
        "2. Calcula y muestra:\n",
        "* El promedio de páginas leídas por día.\n",
        "* El día en que más se leyó.\n",
        "\n",
        "3. Crea un DataFrame llamado libros con información sobre varios libros, que contenga las siguientes columnas:\n",
        "* Título\n",
        "* Autor\n",
        "* Calificación (de 1 a 10)\n",
        "* Año\n",
        "\n",
        "4. Agrega una nueva columna llamada \"Recomendado\", cuyo valor sea:\n",
        "* \"Sí\" si la calificación es mayor o igual a 8,\n",
        "* \"No\" en caso contrario.\n",
        "\n",
        "5. Muestra:\n",
        "* El DataFrame completo con la nueva columna.\n",
        "* El libro mejor calificado."
      ],
      "metadata": {
        "id": "yhoeQsSOGR8p"
      }
    },
    {
      "cell_type": "code",
      "source": [
        "import pandas as pd\n",
        "\n",
        "# 1) Crear la Serie 'paginas' con índice de días\n",
        "paginas = pd.Series(\n",
        "    [50, 30, 80, 45, 60, 90, 20],\n",
        "    index=[\"Lunes\", \"Martes\", \"Miércoles\", \"Jueves\", \"Viernes\", \"Sábado\", \"Domingo\"]\n",
        ")\n",
        "\n",
        "# 2) Cálculos: promedio y día con más lectura\n",
        "promedio_paginas = paginas.mean()\n",
        "dia_mas_lectura = paginas.idxmax()\n",
        "\n",
        "# Mostrar resultados de la serie\n",
        "print(\"Serie 'paginas':\")\n",
        "print(paginas)\n",
        "print(f\"\\nPromedio de páginas por día: {promedio_paginas:.2f}\")\n",
        "print(f\"Día con más lectura: {dia_mas_lectura}\")\n",
        "\n",
        "# 3) Crear DataFrame 'libros'\n",
        "libros = pd.DataFrame({\n",
        "    \"Título\": [\"El Principito\", \"1984\", \"Cien Años de Soledad\", \"El Hobbit\"],\n",
        "    \"Autor\": [\"Antoine de Saint-Exupéry\", \"George Orwell\", \"Gabriel García Márquez\", \"J.R.R. Tolkien\"],\n",
        "    \"Calificación\": [9, 10, 8, 7],\n",
        "    \"Año\": [1943, 1949, 1967, 1937]\n",
        "})\n",
        "\n",
        "# 4) Agregar columna \"Recomendado\"\n",
        "libros[\"Recomendado\"] = libros[\"Calificación\"].apply(lambda x: \"Sí\" if x >= 8 else \"No\")\n",
        "\n",
        "# 5) Mostrar DataFrame completo y el libro mejor calificado\n",
        "print(\"\\nDataFrame 'libros' con columna 'Recomendado':\")\n",
        "print(libros)\n",
        "\n",
        "mejor_indice = libros[\"Calificación\"].idxmax()\n",
        "libro_mejor = libros.loc[mejor_indice]\n",
        "\n",
        "print(\"\\nLibro mejor calificado:\")\n",
        "print(libro_mejor.to_frame().T)  # lo mostramos en formato fila\n"
      ],
      "metadata": {
        "id": "G78EvOHv8O-A",
        "colab": {
          "base_uri": "https://localhost:8080/"
        },
        "outputId": "18d28c77-e865-4ffb-e36a-4d57fe32632e"
      },
      "execution_count": null,
      "outputs": [
        {
          "output_type": "stream",
          "name": "stdout",
          "text": [
            "Serie 'paginas':\n",
            "Lunes        50\n",
            "Martes       30\n",
            "Miércoles    80\n",
            "Jueves       45\n",
            "Viernes      60\n",
            "Sábado       90\n",
            "Domingo      20\n",
            "dtype: int64\n",
            "\n",
            "Promedio de páginas por día: 53.57\n",
            "Día con más lectura: Sábado\n",
            "\n",
            "DataFrame 'libros' con columna 'Recomendado':\n",
            "                 Título                     Autor  Calificación   Año  \\\n",
            "0         El Principito  Antoine de Saint-Exupéry             9  1943   \n",
            "1                  1984             George Orwell            10  1949   \n",
            "2  Cien Años de Soledad    Gabriel García Márquez             8  1967   \n",
            "3             El Hobbit            J.R.R. Tolkien             7  1937   \n",
            "\n",
            "  Recomendado  \n",
            "0          Sí  \n",
            "1          Sí  \n",
            "2          Sí  \n",
            "3          No  \n",
            "\n",
            "Libro mejor calificado:\n",
            "  Título          Autor Calificación   Año Recomendado\n",
            "1   1984  George Orwell           10  1949          Sí\n"
          ]
        }
      ]
    }
  ]
}