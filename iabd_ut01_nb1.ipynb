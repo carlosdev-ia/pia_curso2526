{
  "nbformat": 4,
  "nbformat_minor": 0,
  "metadata": {
    "colab": {
      "provenance": [],
      "include_colab_link": true
    },
    "kernelspec": {
      "name": "python3",
      "display_name": "Python 3"
    },
    "language_info": {
      "name": "python"
    }
  },
  "cells": [
    {
      "cell_type": "markdown",
      "metadata": {
        "id": "view-in-github",
        "colab_type": "text"
      },
      "source": [
        "<a href=\"https://colab.research.google.com/github/carlosdev-ia/pia_curso2526/blob/main/iabd_ut01_nb1.ipynb\" target=\"_parent\"><img src=\"https://colab.research.google.com/assets/colab-badge.svg\" alt=\"Open In Colab\"/></a>"
      ]
    },
    {
      "cell_type": "markdown",
      "source": [
        "# Variables y tipos de datos simples"
      ],
      "metadata": {
        "id": "kRWydY6XKHrD"
      }
    },
    {
      "cell_type": "markdown",
      "source": [
        "## Ejercicio 1"
      ],
      "metadata": {
        "id": "kDrc0FyoLmLu"
      }
    },
    {
      "cell_type": "markdown",
      "source": [
        "Asigna un mensaje a una variable e imprímelo por pantalla."
      ],
      "metadata": {
        "id": "gPy80I5vLoOh"
      }
    },
    {
      "cell_type": "code",
      "source": [
        "saludo = \"Hola Mundo\"\n",
        "print(saludo)"
      ],
      "metadata": {
        "id": "Gp5afBkkMA0g",
        "colab": {
          "base_uri": "https://localhost:8080/"
        },
        "outputId": "154f3a92-55da-4c93-e9c8-cd0ba1dc069d"
      },
      "execution_count": 3,
      "outputs": [
        {
          "output_type": "stream",
          "name": "stdout",
          "text": [
            "Hola Mundo\n"
          ]
        }
      ]
    },
    {
      "cell_type": "markdown",
      "source": [
        "## Ejercicio 2"
      ],
      "metadata": {
        "id": "GyiBbRkaMB0Q"
      }
    },
    {
      "cell_type": "markdown",
      "source": [
        "Asigna a una variable tu nombre y a otra tus dos apellidos. A continuación, haciendo uso de *cadenas f*, muestra por pantalla el texto **apellidos, texto** (sustituyendo **apellidos** y **nombre** por los valores correctos)."
      ],
      "metadata": {
        "id": "SLTW6fC-MD_S"
      }
    },
    {
      "cell_type": "code",
      "source": [
        "nombre = \"Carlos Andres\"\n",
        "apellidos = \"Aguilar Caña\"\n",
        "\n",
        "print(f\"{apellidos}, {nombre}\")\n"
      ],
      "metadata": {
        "id": "f7s171TmNIof",
        "colab": {
          "base_uri": "https://localhost:8080/"
        },
        "outputId": "12a76394-6b61-4cc6-b535-f90db14efea3"
      },
      "execution_count": 2,
      "outputs": [
        {
          "output_type": "stream",
          "name": "stdout",
          "text": [
            "Aguilar Caña, Carlos Andres\n"
          ]
        }
      ]
    },
    {
      "cell_type": "markdown",
      "source": [
        "# Entrada del usuario"
      ],
      "metadata": {
        "id": "B6iOEYynMbeA"
      }
    },
    {
      "cell_type": "markdown",
      "source": [
        "## Ejercicio 3"
      ],
      "metadata": {
        "id": "6FX-m2I2Md0t"
      }
    },
    {
      "cell_type": "markdown",
      "source": [
        "Solicita por teclado al usuario dos números reales, calcula su suma y muestra por pantalla el resultado en la forma **x + y = s** (donde **x** e **y** son los valores introducidos, y **s** el resultado de la suma)."
      ],
      "metadata": {
        "id": "Pp-vYfunM9du"
      }
    },
    {
      "cell_type": "code",
      "source": [
        "input_x = input(\"Introduce un valor real para x: \")\n",
        "input_y = input(\"Introduce un valor real para y: \")\n",
        "print(f\"{input_x} + {input_y} = {float(input_x) + float(input_y)}\")"
      ],
      "metadata": {
        "id": "2nJBwiN6NJbY",
        "colab": {
          "base_uri": "https://localhost:8080/"
        },
        "outputId": "ed8bef2e-b6fd-41e6-df28-1bc1ee7ec59b"
      },
      "execution_count": 16,
      "outputs": [
        {
          "output_type": "stream",
          "name": "stdout",
          "text": [
            "Introduce el valor de x: 5.69\n",
            "Introduce el valor de y: 9.36\n",
            "5.69 + 9.36 = 15.05\n"
          ]
        }
      ]
    },
    {
      "cell_type": "markdown",
      "source": [
        "## Ejercicio 4"
      ],
      "metadata": {
        "id": "njf4rs1CNJzu"
      }
    },
    {
      "cell_type": "markdown",
      "source": [
        "Solicita al usuario su nombre y sus dos apellidos, almacenando los valores en variables separadas. A continuación, muestra el mensaje **Apellido1 Apellido2, Nombre** (donde **Apellido1**, **Apellido2** y **Nombre** son los valores introducidos). La idea es que sólo la primera letra esté en maýuscula, ignorando cómo ha escrito el usuario sus datos. Por ejemplo, si el usuario introdujera **SaNtana** como primer apellido, **PÉREZ** como segundo y **JoSÉ Antonio** como nombre, el resultado sería **Santana Pérez, José Antonio**. Para conseguir el resultado, debes hacer uso del método *title()* que ofrece el tipo String."
      ],
      "metadata": {
        "id": "QthOB1xPNtjE"
      }
    },
    {
      "cell_type": "code",
      "source": [
        "nombre = input(\"Introduce tu nombre: \")\n",
        "apellido1 = input(\"Introduce tu primer apellido: \")\n",
        "apellido2 = input(\"Introduce tu segundo apellido: \")\n",
        "print(f\"{apellido1.title()} {apellido2.title()}, {nombre.title()}\")"
      ],
      "metadata": {
        "id": "gC8QDEURPIsU",
        "colab": {
          "base_uri": "https://localhost:8080/"
        },
        "outputId": "bc4d29bc-5043-4a21-8afa-cef522e943c0"
      },
      "execution_count": 17,
      "outputs": [
        {
          "output_type": "stream",
          "name": "stdout",
          "text": [
            "Introduce tu nombre: sdfsd\n",
            "Introduce tu primer apellido: fddaf\n",
            "Introduce tu segundo apellido: adfa\n",
            "Fddaf Adfa, Sdfsd\n"
          ]
        }
      ]
    },
    {
      "cell_type": "markdown",
      "source": [
        "## Ejercicio 5"
      ],
      "metadata": {
        "id": "4ykLkZTVPJHa"
      }
    },
    {
      "cell_type": "markdown",
      "source": [
        "Solicita al usuario su nombre de pila y su altura, almacenando los valores en variables separadas. En la primera almacenarás una cadena de caracteres (o string) y en la segunda un valor real (o float). A continuación, muestra el mensaje de la forma **Juan, tu altura es 1.70 m**, donde **Juan** en este caso es el nombre que ha introducido el usuario y **1.70** la altura. Fíjate en el formato de la altura, con dos decimales. Haz uso de *cadenas f* y del método *format()* que ofrece el tipo String."
      ],
      "metadata": {
        "id": "c5dXf9e9TfaP"
      }
    },
    {
      "cell_type": "code",
      "source": [
        "nombre = input(\"Introduce tu nombre: \").title()\n",
        "altura = input(\"Introduce tu altura: \")\n",
        "altura = float(altura)\n",
        "mensaje = \"{}, tu altura es {:.2f} m.\".format(nombre, altura)\n",
        "print(mensaje)"
      ],
      "metadata": {
        "id": "1UXPFDO5UviA",
        "colab": {
          "base_uri": "https://localhost:8080/"
        },
        "outputId": "6db9362d-829a-46a3-e539-576b5ce5fed5"
      },
      "execution_count": 20,
      "outputs": [
        {
          "output_type": "stream",
          "name": "stdout",
          "text": [
            "Introduce tu nombre: cedcadaSAFDSsa\n",
            "Introduce tu altura: 15\n",
            "Cedcadasafdssa, tu altura es 15.00 m.\n"
          ]
        }
      ]
    },
    {
      "cell_type": "markdown",
      "source": [
        "# Sentencias If"
      ],
      "metadata": {
        "id": "Alm808oiY9hU"
      }
    },
    {
      "cell_type": "markdown",
      "source": [
        "## Ejercicio 6"
      ],
      "metadata": {
        "id": "Ta2LQrj4ZFuB"
      }
    },
    {
      "cell_type": "markdown",
      "source": [
        "Solicita por teclado al usuario su edad y muéstrale un mensaje indicándole si podría o no votar en unas hipotéticas elecciones generales a celebrar en el día de hoy."
      ],
      "metadata": {
        "id": "vC5aLGmDZYgL"
      }
    },
    {
      "cell_type": "code",
      "source": [
        "edad = input(\"Introduce tu edad: \")\n",
        "edad = int(edad)\n",
        "if edad >= 18:\n",
        "    print(\"Puedes votar\")\n",
        "else:\n",
        "    print(\"No puedes votar\")"
      ],
      "metadata": {
        "id": "id6jW-TrZITk"
      },
      "execution_count": null,
      "outputs": []
    },
    {
      "cell_type": "markdown",
      "source": [
        "## Ejercicio 7"
      ],
      "metadata": {
        "id": "44jpaJ5sZ8EE"
      }
    },
    {
      "cell_type": "markdown",
      "source": [
        "Solicita dos números enteros al usuario e indica si el primero que introdujo es mayor, menor o igual al segundo."
      ],
      "metadata": {
        "id": "ir8UTOV5Z-A6"
      }
    },
    {
      "cell_type": "code",
      "source": [
        "num1 = input(\"Introduce un número entero: \")\n",
        "num2 = input(\"Introduce otro número entero: \")\n",
        "if num1 > num2:\n",
        "    print(f\"{num1} es mayor que {num2}\")\n",
        "elif num1 < num2:\n",
        "    print(f\"{num1} es menor que {num2}\")\n",
        "else:\n",
        "    print(f\"{num1} es igual a {num2}\")"
      ],
      "metadata": {
        "id": "xBndn1p0Z-im"
      },
      "execution_count": null,
      "outputs": []
    },
    {
      "cell_type": "markdown",
      "source": [
        "## Ejercicio 8"
      ],
      "metadata": {
        "id": "suFAVjCpbNg6"
      }
    },
    {
      "cell_type": "markdown",
      "source": [
        "Solicita al usuario la calificación (como número real, con decimales) que ha obtenido en un examen. Si es menor que 5, muestra por pantalla **Suspenso**; si está entre 5 y 7 (sin incluir a éste) muestra por pantalla **Bien**; si la calificación está entre 7 y 9 (sin incluir a éste) muestra **Notable**; y si la calificación está entre 9 y 10 muestra **Sobresaliente**."
      ],
      "metadata": {
        "id": "BrK3T8QmbPo2"
      }
    },
    {
      "cell_type": "code",
      "source": [
        "clasificacion = input(\"Introduce tu calificación: \")\n",
        "clasificacion = float(clasificacion)\n",
        "if clasificacion < 5:\n",
        "    print(\"Suspenso\")\n",
        "elif clasificacion < 7:\n",
        "    print(\"Bien\")\n",
        "elif clasificacion < 9:\n",
        "    print(\"Notable\")\n",
        "else:\n",
        "    print(\"Sobresaliente\")"
      ],
      "metadata": {
        "id": "QUH6RbL4bQDz",
        "colab": {
          "base_uri": "https://localhost:8080/"
        },
        "outputId": "ba71ef51-3dc8-404b-a8d3-9bd22683ebf3"
      },
      "execution_count": 27,
      "outputs": [
        {
          "output_type": "stream",
          "name": "stdout",
          "text": [
            "Introduce tu calificación: 5\n",
            "Bien\n"
          ]
        }
      ]
    },
    {
      "cell_type": "markdown",
      "source": [
        "# Bucles"
      ],
      "metadata": {
        "id": "RtsOvjhLkepy"
      }
    },
    {
      "cell_type": "markdown",
      "source": [
        "## Ejercicio 9"
      ],
      "metadata": {
        "id": "mhCq6gIakiST"
      }
    },
    {
      "cell_type": "markdown",
      "source": [
        "Haciendo uso del bucle **while**, muestra por pantalla los números del 12 al 24, ambos inclusive."
      ],
      "metadata": {
        "id": "4GfBLlYjkk8V"
      }
    },
    {
      "cell_type": "code",
      "source": [
        "n= 12\n",
        "while n <= 24:\n",
        "    print(n)\n",
        "    n += 1"
      ],
      "metadata": {
        "id": "ZzKQUwR-klWl",
        "colab": {
          "base_uri": "https://localhost:8080/"
        },
        "outputId": "f03be65d-5f6a-47fb-a7d5-39e0112ff9bf"
      },
      "execution_count": 29,
      "outputs": [
        {
          "output_type": "stream",
          "name": "stdout",
          "text": [
            "12\n",
            "13\n",
            "14\n",
            "15\n",
            "16\n",
            "17\n",
            "18\n",
            "19\n",
            "20\n",
            "21\n",
            "22\n",
            "23\n",
            "24\n"
          ]
        }
      ]
    },
    {
      "cell_type": "markdown",
      "source": [
        "## Ejercicio 10"
      ],
      "metadata": {
        "id": "t7e1ENp7k5ZS"
      }
    },
    {
      "cell_type": "markdown",
      "source": [
        "Haciendo uso del bucle **for**, muestra por pantalla los números pares situados entre el 12 y el 24, ambos inclusive."
      ],
      "metadata": {
        "id": "O93DGVC2k6F6"
      }
    },
    {
      "cell_type": "code",
      "source": [
        "for i in range(12, 25, 2):\n",
        "  print(i)\n",
        "print(\"\\n\")\n",
        "for i in range(12, 25):\n",
        "  if i % 2 == 0:\n",
        "    print(i)"
      ],
      "metadata": {
        "id": "8cblMi-7k6eI",
        "colab": {
          "base_uri": "https://localhost:8080/"
        },
        "outputId": "7d336081-ced9-43aa-fde9-15b5c1654c77"
      },
      "execution_count": 33,
      "outputs": [
        {
          "output_type": "stream",
          "name": "stdout",
          "text": [
            "12\n",
            "14\n",
            "16\n",
            "18\n",
            "20\n",
            "22\n",
            "24\n",
            "\n",
            "\n",
            "12\n",
            "14\n",
            "16\n",
            "18\n",
            "20\n",
            "22\n",
            "24\n"
          ]
        }
      ]
    }
  ]
}