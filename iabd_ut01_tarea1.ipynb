{
  "nbformat": 4,
  "nbformat_minor": 0,
  "metadata": {
    "colab": {
      "provenance": [],
      "authorship_tag": "ABX9TyOh65Nwfk2PrIYAXoZuWsfc",
      "include_colab_link": true
    },
    "kernelspec": {
      "name": "python3",
      "display_name": "Python 3"
    },
    "language_info": {
      "name": "python"
    }
  },
  "cells": [
    {
      "cell_type": "markdown",
      "metadata": {
        "id": "view-in-github",
        "colab_type": "text"
      },
      "source": [
        "<a href=\"https://colab.research.google.com/github/carlosdev-ia/pia_curso2526/blob/main/iabd_ut01_tarea1.ipynb\" target=\"_parent\"><img src=\"https://colab.research.google.com/assets/colab-badge.svg\" alt=\"Open In Colab\"/></a>"
      ]
    },
    {
      "cell_type": "markdown",
      "source": [
        "# CARLOS ANDRES AGUILAR CAÑA"
      ],
      "metadata": {
        "id": "-68kPaaRw5YE"
      }
    },
    {
      "cell_type": "markdown",
      "source": [
        "b. (1,0 puntos) En una nueva celda de código, crea una lista de nombre tenistas con los siguientes\n",
        "elementos: Novak Djokovic, Rafael Nadal, Roger Federer, Pete Sampras, Roy Emerson. Crea otra lista de nombre grand_slams con los siguientes elementos: 24, 22, 20, 14, 12.\n",
        "Imprime por pantalla las dos listas."
      ],
      "metadata": {
        "id": "KBy_rrauzv5k"
      }
    },
    {
      "cell_type": "code",
      "source": [
        "tenistas = [\"Novak Djokovic\", \"Rafael Nadal\", \"Roger Federer\", \"Pete Sampras\", \"Roy Emerson\"]\n",
        "grand_slams =[24, 22, 20, 14, 12]\n",
        "print(tenistas)\n",
        "print(grand_slams)\n",
        "\n"
      ],
      "metadata": {
        "colab": {
          "base_uri": "https://localhost:8080/"
        },
        "id": "hLDrZSMYw_9c",
        "outputId": "95263dcd-ecf8-472f-f6db-a48ee080dddf"
      },
      "execution_count": 5,
      "outputs": [
        {
          "output_type": "stream",
          "name": "stdout",
          "text": [
            "['Novak Djokovic', 'Rafael Nadal', 'Roger Federer', 'Pete Sampras', 'Roy Emerson']\n",
            "[24, 22, 20, 14, 12]\n"
          ]
        }
      ]
    },
    {
      "cell_type": "markdown",
      "source": [
        "c. (1,0 puntos) En una nueva celda de código, crea un diccionario de nombre dic donde la clave de\n",
        "cada elemento sea el nombre de un tenista y su valor el número de Grand Slams ganados.\n",
        "Imprime por pantalla el diccionario.\n",
        "\n",
        "d. (2,0 puntos) Crea una función de nombre get_tenistas que reciba como parámetro el diccionario\n",
        "dic y muestre los datos del diccionario en la forma Nombre del jugador: X Grand Slams\n",
        "ganados. El resultado debería ser como sigue:\n",
        "Novak Djokovic: 24 Grand Slams ganados.\n",
        "Rafael Nadal: 22 Grand Slams ganados.\n",
        "…\n",
        "\n"
      ],
      "metadata": {
        "id": "y3lKO6FSz8kb"
      }
    },
    {
      "cell_type": "code",
      "source": [
        "dic = dict(zip(tenistas, grand_slams))\n",
        "print(dic, end=\"\\n\\n\")\n",
        "\n",
        "def get_tenistas(dic):\n",
        "  for tenista, grand_slams in dic.items():\n",
        "    print(f\"Nombre del jugador: {tenista}: {grand_slams} Grand Slams ganados\")\n",
        "\n",
        "get_tenistas(dic)\n",
        "\n"
      ],
      "metadata": {
        "colab": {
          "base_uri": "https://localhost:8080/"
        },
        "id": "tr8Onroixti4",
        "outputId": "4c75632c-1ad8-41fb-879b-81b8303dd6fb"
      },
      "execution_count": 9,
      "outputs": [
        {
          "output_type": "stream",
          "name": "stdout",
          "text": [
            "{'Novak Djokovic': 24, 'Rafael Nadal': 22, 'Roger Federer': 20, 'Pete Sampras': 14, 'Roy Emerson': 12}\n",
            "\n",
            "Nombre del jugador: Novak Djokovic: 24 Grand Slams ganados\n",
            "Nombre del jugador: Rafael Nadal: 22 Grand Slams ganados\n",
            "Nombre del jugador: Roger Federer: 20 Grand Slams ganados\n",
            "Nombre del jugador: Pete Sampras: 14 Grand Slams ganados\n",
            "Nombre del jugador: Roy Emerson: 12 Grand Slams ganados\n"
          ]
        }
      ]
    },
    {
      "cell_type": "markdown",
      "source": [
        "e. (2,0 puntos) Define la clase Pais con un \"constructor\" que inicialice los atributos nombre, capital e idioma, que serán los datos a considerar en la clase. Dentro de ella, crea los métodos\n",
        "get_nombre, get_capital y get_idioma, que devolverán el nombre del país, su capital y el idioma\n",
        "hablado, respectivamente. A continuación, crea una instancia u objeto de la clase Pais,\n",
        "asignándole los datos que desees, y haz uso de los métodos implementados para mostrar un\n",
        "mensaje con la información almacenada."
      ],
      "metadata": {
        "id": "9-LHkoZA0DIr"
      }
    },
    {
      "cell_type": "code",
      "source": [
        "class Pais:\n",
        "  def __init__(self, nombre, capital, idioma):\n",
        "    self.nombre = nombre\n",
        "    self.capital = capital\n",
        "    self.idioma = idioma\n",
        "\n",
        "  def get_nombre(self):\n",
        "    return self.nombre\n",
        "\n",
        "  def get_capital(self):\n",
        "    return self.capital\n",
        "\n",
        "  def get_idioma(self):\n",
        "    return self.idioma\n",
        "\n",
        "pais1 = Pais(\"Colombia\", \"Bogota\", \"Español\")\n",
        "print(pais1.nombre)\n",
        "print(pais1.capital)\n",
        "print(pais1.idioma)\n"
      ],
      "metadata": {
        "colab": {
          "base_uri": "https://localhost:8080/"
        },
        "id": "5nVJIK800I40",
        "outputId": "802547ed-2b6f-4462-ea96-dd18962091f6"
      },
      "execution_count": 15,
      "outputs": [
        {
          "output_type": "stream",
          "name": "stdout",
          "text": [
            "Colombia\n",
            "Bogota\n",
            "Español\n"
          ]
        }
      ]
    }
  ]
}