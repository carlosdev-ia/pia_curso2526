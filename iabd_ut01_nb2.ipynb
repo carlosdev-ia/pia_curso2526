{
  "nbformat": 4,
  "nbformat_minor": 0,
  "metadata": {
    "colab": {
      "provenance": [],
      "include_colab_link": true
    },
    "kernelspec": {
      "name": "python3",
      "display_name": "Python 3"
    },
    "language_info": {
      "name": "python"
    }
  },
  "cells": [
    {
      "cell_type": "markdown",
      "metadata": {
        "id": "view-in-github",
        "colab_type": "text"
      },
      "source": [
        "<a href=\"https://colab.research.google.com/github/carlosdev-ia/pia_curso2526/blob/main/iabd_ut01_nb2.ipynb\" target=\"_parent\"><img src=\"https://colab.research.google.com/assets/colab-badge.svg\" alt=\"Open In Colab\"/></a>"
      ]
    },
    {
      "cell_type": "markdown",
      "source": [
        "# Estructuras de datos: Listas."
      ],
      "metadata": {
        "id": "kRWydY6XKHrD"
      }
    },
    {
      "cell_type": "markdown",
      "source": [
        "## Ejercicio 1"
      ],
      "metadata": {
        "id": "kDrc0FyoLmLu"
      }
    },
    {
      "cell_type": "markdown",
      "source": [
        "Solicita dos números enteros al usuario. A continuación, haciendo uso de *listas por comprensión*, crea una lista con aquellos números entre los dos dados (ambos inclusive) que sean múltiplos de 7 y muéstrala por pantalla. Por último, recorre la lista para sumar aquellos valores que sean pares. En la medida de lo posible, lleva un control de errores.\n",
        "\n",
        "**Ejemplo 1:**\n",
        "\n",
        "a = 5\n",
        "\n",
        "b = 58\n",
        "\n",
        "[7, 14, 21, 28, 35, 42, 49, 56]\n",
        "\n",
        "s = 140\n",
        "\n",
        "**Ejemplo 2:**\n",
        "\n",
        "a = 58\n",
        "\n",
        "b = 5\n",
        "\n",
        "[7, 14, 21, 28, 35, 42, 49, 56]\n",
        "\n",
        "s = 140\n",
        "\n",
        "**Ejemplo 3:**\n",
        "\n",
        "a = 10\n",
        "\n",
        "b = 13\n",
        "\n",
        "[]\n",
        "\n",
        "s = 0\n",
        "\n"
      ],
      "metadata": {
        "id": "T02-6deZiAiJ"
      }
    },
    {
      "cell_type": "code",
      "source": [
        "print(\"Introduce dos numeros y creare una lista con los numeros que esten entre ellos y\"\n",
        "+\" sean multiplos de 7, ademas te dare la suma de todos los elementos de la lista.\")\n",
        "\n",
        "num1 = input(\"Introduce un número: \")\n",
        "num2 = input(\"Introduce otro número: \")\n",
        "try:\n",
        "  num1 = int(num1)\n",
        "  num2 = int(num2)\n",
        "  if num1 > num2:\n",
        "    aux = num1\n",
        "    num1 = num2\n",
        "    num2 = aux\n",
        "\n",
        "  lista = [i for i in range(num1, num2+1) if i %7 == 0]\n",
        "  print(lista)\n",
        "  suma = 0\n",
        "  suma = sum(i for i in lista if i % 2 == 0)\n",
        "  \"\"\"\n",
        "  for i in lista:\n",
        "    if i % 2 == 0:\n",
        "        suma += i\n",
        "  \"\"\"\n",
        "  print(\"La suma de los elementos pares de la lista es: \", suma)\n",
        "\n",
        "except:\n",
        "  print(\"Los valores introducidos no son números enteros\")\n",
        "\n",
        "\n"
      ],
      "metadata": {
        "id": "Gp5afBkkMA0g",
        "colab": {
          "base_uri": "https://localhost:8080/"
        },
        "outputId": "849d0e47-6812-46cf-96ed-7697298975b5"
      },
      "execution_count": 12,
      "outputs": [
        {
          "output_type": "stream",
          "name": "stdout",
          "text": [
            "Introduce dos numeros y creare una lista con los numeros que esten entre ellos y sean multiplos de 7, ademas te dare la suma de todos los elementos de la lista.\n",
            "Introduce un número: 58\n",
            "Introduce otro número: 5\n",
            "[7, 14, 21, 28, 35, 42, 49, 56]\n",
            "La suma de los elementos pares de la lista es:  140\n"
          ]
        }
      ]
    },
    {
      "cell_type": "markdown",
      "source": [
        "## Ejercicio 2"
      ],
      "metadata": {
        "id": "GyiBbRkaMB0Q"
      }
    },
    {
      "cell_type": "markdown",
      "source": [
        "Crea una lista con 10 números a tu elección entre 1 y 100, repitiendo alguno de ellos, y muéstrala por pantalla. A continuación, solicita al usuario un número entre 1 y 100 y muéstrale por pantalla el total de coincidencias en la lista. Por último, borra todas las coincidencias (si existe alguna) y vuelve a mostrar la lista. En la medida de lo posible, lleva un control de errores.\n",
        "\n",
        "**Ejemplo 1:**\n",
        "\n",
        "[1, 45, 34, 45, 36, 98, 100, 24, 45, 18]\n",
        "\n",
        "n = 45\n",
        "\n",
        "coincidencias = 3\n",
        "\n",
        "[1, 34, 36, 98, 100, 24, 18]\n",
        "\n",
        "**Ejemplo 2:**\n",
        "\n",
        "[1, 45, 34, 45, 36, 98, 100, 24, 45, 18]\n",
        "\n",
        "n = 15\n",
        "\n",
        "coincidencias = 0\n",
        "\n",
        "[1, 45, 34, 45, 36, 98, 100, 24, 45, 18]"
      ],
      "metadata": {
        "id": "7b-PnWXOt20V"
      }
    },
    {
      "cell_type": "code",
      "source": [],
      "metadata": {
        "id": "f7s171TmNIof"
      },
      "execution_count": 6,
      "outputs": []
    },
    {
      "cell_type": "markdown",
      "source": [
        "## Ejercicio 3"
      ],
      "metadata": {
        "id": "vW_NULURhktt"
      }
    },
    {
      "cell_type": "markdown",
      "source": [
        "Solicita al usuario una palabra (una cadena de texto) y muestra el número de veces que contiene cada vocal (recuerda que las cadenas de texto se comportan como listas de caracteres).\n",
        "\n",
        "**Ejemplo 1:**\n",
        "\n",
        "palabra = idiosincrasia\n",
        "\n",
        "a: 2 veces\n",
        "\n",
        "e: 0 veces\n",
        "\n",
        "i: 4 veces\n",
        "\n",
        "o: 1 vez\n",
        "\n",
        "u: 0 veces\n"
      ],
      "metadata": {
        "id": "-MLe1zIenQJU"
      }
    },
    {
      "cell_type": "code",
      "source": [
        "def quitar_tildes_replace(cadena):\n",
        "    replacements = (\n",
        "        (\"á\", \"a\"), (\"é\", \"e\"), (\"í\", \"i\"), (\"ó\", \"o\"), (\"ú\", \"u\"),\n",
        "        (\"ä\", \"a\"), (\"ë\", \"e\"), (\"ï\", \"i\"), (\"ö\", \"o\"), (\"ü\", \"u\")\n",
        "    )\n",
        "    for original, sin_tilde in replacements:\n",
        "        cadena = cadena.replace(original, sin_tilde)\n",
        "    return cadena\n",
        "\n",
        "palabra = input(\"Introduce una palabra: \").lower()\n",
        "palabra = quitar_tildes_replace(palabra)\n",
        "\n",
        "conteo_vocales = {\"a\": 0, \"e\": 0, \"i\": 0, \"o\": 0, \"u\": 0}\n",
        "\n",
        "for caracter in palabra:\n",
        "    if caracter in conteo_vocales:\n",
        "        conteo_vocales[caracter] += 1\n",
        "\n",
        "for vocal, count in conteo_vocales.items():\n",
        "    print(f\"{vocal}: {count} veces\")"
      ],
      "metadata": {
        "id": "uj-uIoBNhmqd",
        "colab": {
          "base_uri": "https://localhost:8080/"
        },
        "outputId": "16c04ceb-344d-4fe8-b818-6a7385a7f7d0"
      },
      "execution_count": 27,
      "outputs": [
        {
          "output_type": "stream",
          "name": "stdout",
          "text": [
            "Introduce una palabra: GUanteü\n",
            "a: 1 veces\n",
            "e: 1 veces\n",
            "i: 0 veces\n",
            "o: 0 veces\n",
            "u: 2 veces\n"
          ]
        }
      ]
    },
    {
      "cell_type": "markdown",
      "source": [
        "# Estructuras de datos: Tuplas.\n",
        "\n"
      ],
      "metadata": {
        "id": "B6iOEYynMbeA"
      }
    },
    {
      "cell_type": "markdown",
      "source": [
        "## Ejercicio 4"
      ],
      "metadata": {
        "id": "6FX-m2I2Md0t"
      }
    },
    {
      "cell_type": "markdown",
      "source": [
        "Solicita 4 valores enteros al usuario, almacénalos en una tupla y muestra la tupla por pantalla. A continuación, muestra el menor y el mayor de los valores presentes en la tupla.\n",
        "\n",
        "**Ejemplo 1:**\n",
        "\n",
        "v1 = 4\n",
        "\n",
        "v2 = 79\n",
        "\n",
        "v3 = 0\n",
        "\n",
        "v4 = 15\n",
        "\n",
        "t = (4, 79, 0, 15)\n",
        "\n",
        "menor = 0\n",
        "\n",
        "mayor = 79"
      ],
      "metadata": {
        "id": "N44w55Cqorgl"
      }
    },
    {
      "cell_type": "code",
      "source": [],
      "metadata": {
        "id": "2nJBwiN6NJbY"
      },
      "execution_count": 6,
      "outputs": []
    },
    {
      "cell_type": "markdown",
      "source": [
        "## Ejercicio 5"
      ],
      "metadata": {
        "id": "njf4rs1CNJzu"
      }
    },
    {
      "cell_type": "markdown",
      "source": [
        "Crea una tupla con los valores **Buenos días**, **Buenas tardes** y **Buenas noches**. A continuación, solicita al usuario su nombre y una hora en el formato hh:mm (24h). Por último, muestra un mensaje al usuario del tipo **Hola, José. El saludo a utilizar a las 11:15 sería 'Buenos días'.**\n",
        "\n",
        "**Ejemplo 1:**\n",
        "\n",
        "Introduce tu nombre: José\n",
        "\n",
        "Introduce una hora (hh:mm, 24h): 11:15\n",
        "\n",
        "Hola, José. El saludo a utilizar a las 11:15 sería 'Buenos días'.\n",
        "\n",
        "**Ejemplo 2:**\n",
        "\n",
        "Introduce tu nombre: José\n",
        "\n",
        "Introduce una hora (hh:mm, 24h): 25:15\n",
        "\n",
        "Hola, José. Esa hora no existe."
      ],
      "metadata": {
        "id": "jeUiScy_p3B7"
      }
    },
    {
      "cell_type": "code",
      "source": [],
      "metadata": {
        "id": "gC8QDEURPIsU"
      },
      "execution_count": 6,
      "outputs": []
    },
    {
      "cell_type": "markdown",
      "source": [
        "## Ejercicio 6"
      ],
      "metadata": {
        "id": "4ykLkZTVPJHa"
      }
    },
    {
      "cell_type": "markdown",
      "source": [
        "Crea una tupla de nombre **canarias** con tres elementos. El primero es una tupla que contiene el nombre de las 8 islas canarias, el segundo es otra tupla que contiene la capital de cada isla y el tercero es una lista con la temperatura media de cada capital. A continuación, muestra la información correspondiente a Las Palmas de Gran Canaria y a Santa Cruz de Tenerife. Por último, muestra la temperatura media en las capitales.\n",
        "\n",
        "**Ejemplo:**\n",
        "\n",
        "Gran Canaria\n",
        "\n",
        "Capital: Las Palmas de Gran Canaria\n",
        "\n",
        "Temperatura media: 21.0 °C\n",
        "\n",
        "Tenerife\n",
        "\n",
        "Capital: Santa Cruz de Tenerife\n",
        "\n",
        "Temperatura media: 20.0 °C\n",
        "\n",
        "Temperatura media de las capitales de Canarias: 21.5 °C\n",
        "\n"
      ],
      "metadata": {
        "id": "9bq7aZYHs8GO"
      }
    },
    {
      "cell_type": "code",
      "source": [],
      "metadata": {
        "id": "1UXPFDO5UviA"
      },
      "execution_count": 6,
      "outputs": []
    },
    {
      "cell_type": "markdown",
      "source": [
        "# Estructuras de datos: Diccionarios."
      ],
      "metadata": {
        "id": "Alm808oiY9hU"
      }
    },
    {
      "cell_type": "markdown",
      "source": [
        "## Ejercicio 7"
      ],
      "metadata": {
        "id": "Ta2LQrj4ZFuB"
      }
    },
    {
      "cell_type": "markdown",
      "source": [
        "Crea un diccionario que almacene los datos de un tenista (por ahora, sólo nombre -realmente primer apellido-, altura y número de Grand Slams ganados). A continuación, crea una lista de nombre **tenistas** con información de tres tenistas e imprímela por pantalla. Por último, solicita al usuario el nombre de un tenista, muestra su información y añade el mensaje **¿Sabías que NOMBRE_JUGADOR es el que más Grand Slams ha ganado?**, donde NOMBRE_JUGADOR es el nombre del jugador que más Grand Slams ha ganado, que tendrás que buscar.\n",
        "\n",
        "**Ejemplo:**\n",
        "\n",
        "tenistas =[{'nombre': 'Nadal', 'altura': 1.85, 'n_grandslams': 22}, {'nombre': 'Djokovic', 'altura': 1.88, 'n_grandslams': 24}, {'nombre': 'Federer', 'altura': 1.85, 'n_grandslams': 20}]\n",
        "\n",
        "Introduce el nombre de un tenista: Nadal\n",
        "\n",
        "Altura: 1.85 m\n",
        "\n",
        "Grand Slams: 22\n",
        "\n",
        "¿Sabías que Djokovic es el jugador que más Grand Slams ha ganado?\n",
        "\n",
        "\n",
        "\n"
      ],
      "metadata": {
        "id": "9WDjT3xheasN"
      }
    },
    {
      "cell_type": "code",
      "source": [],
      "metadata": {
        "id": "id6jW-TrZITk"
      },
      "execution_count": 6,
      "outputs": []
    },
    {
      "cell_type": "markdown",
      "source": [
        "## Ejercicio 8"
      ],
      "metadata": {
        "id": "44jpaJ5sZ8EE"
      }
    },
    {
      "cell_type": "markdown",
      "source": [
        "Crea un diccionario con tu horario de clase, considerando clave el día de la semana. A continuación, solicita al usuario día de la semana y hora, para mostrarle qué módulo tiene. Haz un control de posibles errores.\n",
        "\n",
        "**Ejemplo 1:**\n",
        "\n",
        "Horario IABD 2025-26\n",
        "\n",
        "Día: Jueves\n",
        "\n",
        "Hora: 18:40\n",
        "\n",
        "Módulo: 7RO (Programación de Inteligencia Artificial)\n",
        "\n",
        "**Ejemplo 2:**\n",
        "\n",
        "Horario IABD 2025-26\n",
        "\n",
        "Día: Jueves\n",
        "\n",
        "Hora: 09:50\n",
        "\n",
        "El curso se imparte en horario de tarde.\n"
      ],
      "metadata": {
        "id": "EVV9B6_8ih0n"
      }
    },
    {
      "cell_type": "code",
      "source": [],
      "metadata": {
        "id": "xBndn1p0Z-im"
      },
      "execution_count": 6,
      "outputs": []
    },
    {
      "cell_type": "markdown",
      "source": [
        "## Ejercicio 9"
      ],
      "metadata": {
        "id": "suFAVjCpbNg6"
      }
    },
    {
      "cell_type": "markdown",
      "source": [
        "Crea una lista que contenga el nombre de cinco artistas o grupos musicales que te gusten. A continuación, crea otra lista con una canción de cada artista/grupo musical, almacenándola en la misma posición en la que se encuentra el artista/grupo en la primera lista. Por último, crea un diccionario uniendo las dos listas y muestra la información por pantalla en el formato que desees. Da la opción al usuario para que pueda modificar la canción."
      ],
      "metadata": {
        "id": "F3PIM4sPkEL4"
      }
    },
    {
      "cell_type": "code",
      "source": [],
      "metadata": {
        "id": "QUH6RbL4bQDz"
      },
      "execution_count": 6,
      "outputs": []
    }
  ]
}