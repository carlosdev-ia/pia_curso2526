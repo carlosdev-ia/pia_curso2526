{
  "nbformat": 4,
  "nbformat_minor": 0,
  "metadata": {
    "colab": {
      "provenance": [],
      "include_colab_link": true
    },
    "kernelspec": {
      "name": "python3",
      "display_name": "Python 3"
    },
    "language_info": {
      "name": "python"
    }
  },
  "cells": [
    {
      "cell_type": "markdown",
      "metadata": {
        "id": "view-in-github",
        "colab_type": "text"
      },
      "source": [
        "<a href=\"https://colab.research.google.com/github/carlosdev-ia/pia_curso2526/blob/main/iabd_ut01_nb2.ipynb\" target=\"_parent\"><img src=\"https://colab.research.google.com/assets/colab-badge.svg\" alt=\"Open In Colab\"/></a>"
      ]
    },
    {
      "cell_type": "markdown",
      "source": [
        "# Estructuras de datos: Listas."
      ],
      "metadata": {
        "id": "kRWydY6XKHrD"
      }
    },
    {
      "cell_type": "markdown",
      "source": [
        "## Ejercicio 1"
      ],
      "metadata": {
        "id": "kDrc0FyoLmLu"
      }
    },
    {
      "cell_type": "markdown",
      "source": [
        "Solicita dos números enteros al usuario. A continuación, haciendo uso de *listas por comprensión*, crea una lista con aquellos números entre los dos dados (ambos inclusive) que sean múltiplos de 7 y muéstrala por pantalla. Por último, recorre la lista para sumar aquellos valores que sean pares. En la medida de lo posible, lleva un control de errores.\n",
        "\n",
        "**Ejemplo 1:**\n",
        "\n",
        "a = 5\n",
        "\n",
        "b = 58\n",
        "\n",
        "[7, 14, 21, 28, 35, 42, 49, 56]\n",
        "\n",
        "s = 140\n",
        "\n",
        "**Ejemplo 2:**\n",
        "\n",
        "a = 58\n",
        "\n",
        "b = 5\n",
        "\n",
        "[7, 14, 21, 28, 35, 42, 49, 56]\n",
        "\n",
        "s = 140\n",
        "\n",
        "**Ejemplo 3:**\n",
        "\n",
        "a = 10\n",
        "\n",
        "b = 13\n",
        "\n",
        "[]\n",
        "\n",
        "s = 0\n",
        "\n"
      ],
      "metadata": {
        "id": "T02-6deZiAiJ"
      }
    },
    {
      "cell_type": "code",
      "source": [
        "print(\"Introduce dos numeros y creare una lista con los numeros que esten entre ellos y\"\n",
        "+\" sean multiplos de 7, ademas te dare la suma de todos los elementos de la lista.\")\n",
        "\n",
        "num1 = input(\"Introduce un número: \")\n",
        "num2 = input(\"Introduce otro número: \")\n",
        "try:\n",
        "  num1 = int(num1)\n",
        "  num2 = int(num2)\n",
        "  if num1 > num2:\n",
        "    aux = num1\n",
        "    num1 = num2\n",
        "    num2 = aux\n",
        "\n",
        "  lista = [i for i in range(num1, num2+1) if i %7 == 0]\n",
        "  print(lista)\n",
        "  suma = 0\n",
        "  suma = sum(i for i in lista if i % 2 == 0)\n",
        "  \"\"\"\n",
        "  for i in lista:\n",
        "    if i % 2 == 0:\n",
        "        suma += i\n",
        "  \"\"\"\n",
        "  print(\"La suma de los elementos pares de la lista es: \", suma)\n",
        "\n",
        "except:\n",
        "  print(\"Los valores introducidos no son números enteros\")\n",
        "\n",
        "\n"
      ],
      "metadata": {
        "id": "Gp5afBkkMA0g"
      },
      "execution_count": null,
      "outputs": []
    },
    {
      "cell_type": "markdown",
      "source": [
        "## Ejercicio 2"
      ],
      "metadata": {
        "id": "GyiBbRkaMB0Q"
      }
    },
    {
      "cell_type": "markdown",
      "source": [
        "Crea una lista con 10 números a tu elección entre 1 y 100, repitiendo alguno de ellos, y muéstrala por pantalla. A continuación, solicita al usuario un número entre 1 y 100 y muéstrale por pantalla el total de coincidencias en la lista. Por último, borra todas las coincidencias (si existe alguna) y vuelve a mostrar la lista. En la medida de lo posible, lleva un control de errores.\n",
        "\n",
        "**Ejemplo 1:**\n",
        "\n",
        "[1, 45, 34, 45, 36, 98, 100, 24, 45, 18]\n",
        "\n",
        "n = 45\n",
        "\n",
        "coincidencias = 3\n",
        "\n",
        "[1, 34, 36, 98, 100, 24, 18]\n",
        "\n",
        "**Ejemplo 2:**\n",
        "\n",
        "[1, 45, 34, 45, 36, 98, 100, 24, 45, 18]\n",
        "\n",
        "n = 15\n",
        "\n",
        "coincidencias = 0\n",
        "\n",
        "[1, 45, 34, 45, 36, 98, 100, 24, 45, 18]"
      ],
      "metadata": {
        "id": "7b-PnWXOt20V"
      }
    },
    {
      "cell_type": "code",
      "source": [
        "lista = [1, 45, 34, 45, 36, 98, 100, 24, 45, 18]\n",
        "print(lista)\n",
        "num = input(\"Introduce un número entre 1 y 100: \")\n",
        "try:\n",
        "  num = int(num)\n",
        "  if num < 1 or num > 100:\n",
        "    raise ValueError\n",
        "  coincidencias = lista.count(num)\n",
        "  print(\"Coincidencias: \", coincidencias)\n",
        "  lista = [i for i in lista if i != num]\n",
        "  print(lista)\n",
        "except:\n",
        "  print(\"El valor introducido no es un número entero entre 1 y 100\")\n",
        "\n",
        "\n",
        "#2\n",
        "print(\"\\n SEGUNDO MODO\\n\")\n",
        "lista = [1, 45, 34, 45, 36, 98, 100, 24, 45, 18]\n",
        "print(lista)\n",
        "num = -1\n",
        "while num < 1 or num > 100:\n",
        "  num = int(input(\"Introduce un número entre 1 y 100: \"))\n",
        "coincidencias = lista.count(num)\n",
        "print(\"Coincidencias: \", coincidencias)\n",
        "lista = [i for i in lista if i != num]\n",
        "print(lista)\n",
        "\n"
      ],
      "metadata": {
        "id": "f7s171TmNIof"
      },
      "execution_count": null,
      "outputs": []
    },
    {
      "cell_type": "markdown",
      "source": [
        "## Ejercicio 3"
      ],
      "metadata": {
        "id": "vW_NULURhktt"
      }
    },
    {
      "cell_type": "markdown",
      "source": [
        "Solicita al usuario una palabra (una cadena de texto) y muestra el número de veces que contiene cada vocal (recuerda que las cadenas de texto se comportan como listas de caracteres).\n",
        "\n",
        "**Ejemplo 1:**\n",
        "\n",
        "palabra = idiosincrasia\n",
        "\n",
        "a: 2 veces\n",
        "\n",
        "e: 0 veces\n",
        "\n",
        "i: 4 veces\n",
        "\n",
        "o: 1 vez\n",
        "\n",
        "u: 0 veces\n"
      ],
      "metadata": {
        "id": "-MLe1zIenQJU"
      }
    },
    {
      "cell_type": "code",
      "source": [
        "def quitar_tildes_replace(cadena):\n",
        "    replacements = (\n",
        "        (\"á\", \"a\"), (\"é\", \"e\"), (\"í\", \"i\"), (\"ó\", \"o\"), (\"ú\", \"u\"),\n",
        "        (\"ä\", \"a\"), (\"ë\", \"e\"), (\"ï\", \"i\"), (\"ö\", \"o\"), (\"ü\", \"u\")\n",
        "    )\n",
        "    for original, sin_tilde in replacements:\n",
        "        cadena = cadena.replace(original, sin_tilde)\n",
        "    return cadena\n",
        "\n",
        "palabra = input(\"Introduce una palabra: \").lower()\n",
        "palabra = quitar_tildes_replace(palabra)\n",
        "\n",
        "conteo_vocales = {\"a\": 0, \"e\": 0, \"i\": 0, \"o\": 0, \"u\": 0}\n",
        "\n",
        "for caracter in palabra:\n",
        "    if caracter in conteo_vocales:\n",
        "        conteo_vocales[caracter] += 1\n",
        "\n",
        "for vocal, count in conteo_vocales.items():\n",
        "    print(f\"{vocal}: {count} veces\")"
      ],
      "metadata": {
        "id": "uj-uIoBNhmqd"
      },
      "execution_count": null,
      "outputs": []
    },
    {
      "cell_type": "markdown",
      "source": [
        "# Estructuras de datos: Tuplas.\n",
        "\n"
      ],
      "metadata": {
        "id": "B6iOEYynMbeA"
      }
    },
    {
      "cell_type": "markdown",
      "source": [
        "## Ejercicio 4"
      ],
      "metadata": {
        "id": "6FX-m2I2Md0t"
      }
    },
    {
      "cell_type": "markdown",
      "source": [
        "Solicita 4 valores enteros al usuario, almacénalos en una tupla y muestra la tupla por pantalla. A continuación, muestra el menor y el mayor de los valores presentes en la tupla.\n",
        "\n",
        "**Ejemplo 1:**\n",
        "\n",
        "v1 = 4\n",
        "\n",
        "v2 = 79\n",
        "\n",
        "v3 = 0\n",
        "\n",
        "v4 = 15\n",
        "\n",
        "t = (4, 79, 0, 15)\n",
        "\n",
        "menor = 0\n",
        "\n",
        "mayor = 79"
      ],
      "metadata": {
        "id": "N44w55Cqorgl"
      }
    },
    {
      "cell_type": "code",
      "source": [
        "print(\"\\n SEGUNDO MODO\\n\")\n",
        "\n",
        "v1 = \"a\"\n",
        "v2 = \"a\"\n",
        "v3 = \"a\"\n",
        "v4 = \"a\",\n",
        "tupla = (v1, v2, v3, v4)\n",
        "\n",
        "while not all(isinstance(x, (int)) for x in tupla):\n",
        "  print(\"\\nVamos a introducir 4 numeros enteros\\n\")\n",
        "  v1 = input(\"Introduce un número: \")\n",
        "  v2 = input(\"Introduce otro número: \")\n",
        "  v3 = input(\"Introduce otro número: \")\n",
        "  v4 = input(\"Introduce otro número: \")\n",
        "  tupla = (v1, v2, v3, v4)\n",
        "  try:\n",
        "    tupla = [int(x) for x in tupla]\n",
        "  except ValueError:\n",
        "    print(\"\\n¡Error! Todos deben ser números enteros.\")\n",
        "\n",
        "\n",
        "print(tupla)\n",
        "print(\"El menor es: \", min(tupla))\n",
        "print(\"El mayor es: \", max(tupla))\n",
        "\n",
        "\n"
      ],
      "metadata": {
        "id": "YO4E4BIHc-XW"
      },
      "execution_count": null,
      "outputs": []
    },
    {
      "cell_type": "markdown",
      "source": [
        "## Ejercicio 5"
      ],
      "metadata": {
        "id": "njf4rs1CNJzu"
      }
    },
    {
      "cell_type": "markdown",
      "source": [
        "Crea una tupla con los valores **Buenos días**, **Buenas tardes** y **Buenas noches**. A continuación, solicita al usuario su nombre y una hora en el formato hh:mm (24h). Por último, muestra un mensaje al usuario del tipo **Hola, José. El saludo a utilizar a las 11:15 sería 'Buenos días'.**\n",
        "\n",
        "**Ejemplo 1:**\n",
        "\n",
        "Introduce tu nombre: José\n",
        "\n",
        "Introduce una hora (hh:mm, 24h): 11:15\n",
        "\n",
        "Hola, José. El saludo a utilizar a las 11:15 sería 'Buenos días'.\n",
        "\n",
        "**Ejemplo 2:**\n",
        "\n",
        "Introduce tu nombre: José\n",
        "\n",
        "Introduce una hora (hh:mm, 24h): 25:15\n",
        "\n",
        "Hola, José. Esa hora no existe."
      ],
      "metadata": {
        "id": "jeUiScy_p3B7"
      }
    },
    {
      "cell_type": "code",
      "source": [
        "tupla = (\"Buenos días\", \"Buenas tardes\", \"Buenas noches\")\n",
        "nombre = input(\"Introduce tu nombre: \")\n",
        "hora = \"25:00\"\n",
        "hora_min = hora.split(\":\")\n",
        "hora_min = [int(x) for x in hora_min]\n",
        "try:\n",
        "  hora = input(\"Introduce una hora (hh:mm, 24h): \").strip()\n",
        "  hora_min = hora.split(\":\")\n",
        "  hora_min = [int(x) for x in hora_min]\n",
        "except ValueError:\n",
        "   print(f\"\\n¡Error! {nombre}. La siguiente no es una hora {hora}.\")\n",
        "   exit()\n",
        "\n",
        "\n",
        "if hora_min[0] <  0 or hora_min[0] > 23 or hora_min[1] < 0 or hora_min[1] > 59 and type((x) for x in hora_min) == int:\n",
        "  print(f\"\\n¡Error! {nombre}. La siguiente hora no existe {hora}.\")\n",
        "elif hora_min[0] > 6 and hora_min[0] < 14:\n",
        "  print(f\"\\nHola, {nombre}. El saludo a utilizar a las {hora} sería '{tupla[0]}'.\")\n",
        "elif hora_min[0] < 20:\n",
        "  print(f\"\\nHola, {nombre}. El saludo a utilizar a las {hora} sería '{tupla[1]}'.\")\n",
        "else:\n",
        "  print(f\"\\nHola, {nombre}. El saludo a utilizar a las {hora} sería '{tupla[2]}'.\")\n",
        "\n",
        "\n",
        "\n",
        "\n"
      ],
      "metadata": {
        "id": "gC8QDEURPIsU",
        "colab": {
          "base_uri": "https://localhost:8080/",
          "height": 245
        },
        "outputId": "48f45d3b-6706-40e0-9333-03f3125e3356"
      },
      "execution_count": null,
      "outputs": [
        {
          "name": "stdout",
          "output_type": "stream",
          "text": [
            "Introduce tu nombre: dfs\n",
            "Introduce una hora (hh:mm, 24h): 23\n"
          ]
        },
        {
          "output_type": "error",
          "ename": "IndexError",
          "evalue": "list index out of range",
          "traceback": [
            "\u001b[0;31m---------------------------------------------------------------------------\u001b[0m",
            "\u001b[0;31mIndexError\u001b[0m                                Traceback (most recent call last)",
            "\u001b[0;32m/tmp/ipython-input-268432679.py\u001b[0m in \u001b[0;36m<cell line: 0>\u001b[0;34m()\u001b[0m\n\u001b[1;32m     13\u001b[0m \u001b[0;34m\u001b[0m\u001b[0m\n\u001b[1;32m     14\u001b[0m \u001b[0;34m\u001b[0m\u001b[0m\n\u001b[0;32m---> 15\u001b[0;31m \u001b[0;32mif\u001b[0m \u001b[0mhora_min\u001b[0m\u001b[0;34m[\u001b[0m\u001b[0;36m0\u001b[0m\u001b[0;34m]\u001b[0m \u001b[0;34m<\u001b[0m  \u001b[0;36m0\u001b[0m \u001b[0;32mor\u001b[0m \u001b[0mhora_min\u001b[0m\u001b[0;34m[\u001b[0m\u001b[0;36m0\u001b[0m\u001b[0;34m]\u001b[0m \u001b[0;34m>\u001b[0m \u001b[0;36m23\u001b[0m \u001b[0;32mor\u001b[0m \u001b[0mhora_min\u001b[0m\u001b[0;34m[\u001b[0m\u001b[0;36m1\u001b[0m\u001b[0;34m]\u001b[0m \u001b[0;34m<\u001b[0m \u001b[0;36m0\u001b[0m \u001b[0;32mor\u001b[0m \u001b[0mhora_min\u001b[0m\u001b[0;34m[\u001b[0m\u001b[0;36m1\u001b[0m\u001b[0;34m]\u001b[0m \u001b[0;34m>\u001b[0m \u001b[0;36m59\u001b[0m \u001b[0;32mand\u001b[0m \u001b[0mtype\u001b[0m\u001b[0;34m(\u001b[0m\u001b[0;34m(\u001b[0m\u001b[0mx\u001b[0m\u001b[0;34m)\u001b[0m \u001b[0;32mfor\u001b[0m \u001b[0mx\u001b[0m \u001b[0;32min\u001b[0m \u001b[0mhora_min\u001b[0m\u001b[0;34m)\u001b[0m \u001b[0;34m==\u001b[0m \u001b[0mint\u001b[0m\u001b[0;34m:\u001b[0m\u001b[0;34m\u001b[0m\u001b[0;34m\u001b[0m\u001b[0m\n\u001b[0m\u001b[1;32m     16\u001b[0m   \u001b[0mprint\u001b[0m\u001b[0;34m(\u001b[0m\u001b[0;34mf\"\\n¡Error! {nombre}. La siguiente hora no existe {hora}.\"\u001b[0m\u001b[0;34m)\u001b[0m\u001b[0;34m\u001b[0m\u001b[0;34m\u001b[0m\u001b[0m\n\u001b[1;32m     17\u001b[0m \u001b[0;32melif\u001b[0m \u001b[0mhora_min\u001b[0m\u001b[0;34m[\u001b[0m\u001b[0;36m0\u001b[0m\u001b[0;34m]\u001b[0m \u001b[0;34m<\u001b[0m \u001b[0;36m12\u001b[0m\u001b[0;34m:\u001b[0m\u001b[0;34m\u001b[0m\u001b[0;34m\u001b[0m\u001b[0m\n",
            "\u001b[0;31mIndexError\u001b[0m: list index out of range"
          ]
        }
      ]
    },
    {
      "cell_type": "code",
      "source": [
        "tupla = (\"Buenos días\", \"Buenas tardes\", \"Buenas noches\")\n",
        "\n",
        "nombre = input(\"Introduce tu nombre: \")\n",
        "hora = input(\"Introduce una hora (hh:mm, 24h): \").strip()\n",
        "\n",
        "#parsear string a entero\n",
        "def parse_hora(hhmm: str) -> tuple[int, int]:\n",
        "    partes = hhmm.split(\":\")\n",
        "    if len(partes) != 2:\n",
        "        raise ValueError(\"formato\")\n",
        "    try:\n",
        "        h, m = map(int, partes)\n",
        "    except ValueError:\n",
        "        raise ValueError(\"tipo\")\n",
        "    if not (0 <= h <= 23 and 0 <= m <= 59):\n",
        "        raise ValueError(\"rango\")\n",
        "    return h, m\n",
        "\n",
        "try:\n",
        "    h, m = parse_hora(hora)\n",
        "except ValueError:\n",
        "    print(f\"\\n¡Error! {nombre}. La hora '{hora}' no es válida (usa hh:mm de 00:00 a 23:59).\")\n",
        "    raise SystemExit\n",
        "\n",
        "# Convención habitual en España:\n",
        "# 06:00–13:59 -> Buenos días | 14:00–20:59 -> Buenas tardes | 21:00–05:59 -> Buenas noches\n",
        "if 6 <= h <= 13:\n",
        "    saludo = tupla[0]\n",
        "elif 14 <= h <= 20:\n",
        "    saludo = tupla[1]\n",
        "else:\n",
        "    saludo = tupla[2]\n",
        "\n",
        "print(f\"\\nHola, {nombre}. El saludo a utilizar a las {hora} sería '{saludo}'.\")\n"
      ],
      "metadata": {
        "id": "QV8_g7pqc_dk"
      },
      "execution_count": null,
      "outputs": []
    },
    {
      "cell_type": "code",
      "source": [
        "import re\n",
        "\n",
        "tupla = (\"Buenos días\", \"Buenas tardes\", \"Buenas noches\")\n",
        "validacion = True\n",
        "nombre = input(\"Introduce tu nombre: \")\n",
        "\n",
        "while True:\n",
        "    hora = input(\"Introduce una hora (hh:mm, 24h): \").strip()\n",
        "\n",
        "    # 1) re.fullmatch -> Validar formato exacto hh:mm (dos dígitos : dos dígitos)\n",
        "    if not re.fullmatch(r\"\\d{2}:\\d{2}\", hora):\n",
        "        print(f\"\\nHola, {nombre}. utilice formato completo (hh:mm).\")\n",
        "        continue\n",
        "\n",
        "    # 2) Validar rangos 00–23 y 00–59\n",
        "    h, m = map(int, hora.split(\":\"))\n",
        "    if not (0 <= h <= 23 and 0 <= m <= 59):\n",
        "        print(f\"\\nHola, {nombre}. Esa hora no existe.\")\n",
        "        continue\n",
        "\n",
        "    # Si pasa ambas validaciones, salimos del bucle\n",
        "    break\n",
        "\n",
        "# Rangos habituales en España\n",
        "if 6 <= h <= 13:\n",
        "    saludo = tupla[0]\n",
        "elif 14 <= h <= 20:\n",
        "    saludo = tupla[1]\n",
        "else:\n",
        "    saludo = tupla[2]\n",
        "\n",
        "print(f\"\\nHola, {nombre}. El saludo a utilizar a las {hora} sería '{saludo}'.\")\n"
      ],
      "metadata": {
        "colab": {
          "base_uri": "https://localhost:8080/"
        },
        "id": "6uEl1r8recT_",
        "outputId": "27a9c213-f1dd-41af-a6ae-0db68db60bce"
      },
      "execution_count": null,
      "outputs": [
        {
          "output_type": "stream",
          "name": "stdout",
          "text": [
            "Introduce tu nombre: sgs\n",
            "Introduce una hora (hh:mm, 24h): sgvs\n",
            "\n",
            "Hola, sgs. utilice formato completo (hh:mm).\n",
            "Introduce una hora (hh:mm, 24h): 54\n",
            "\n",
            "Hola, sgs. utilice formato completo (hh:mm).\n",
            "Introduce una hora (hh:mm, 24h): 51:12\n",
            "\n",
            "Hola, sgs. Esa hora no existe.\n",
            "Introduce una hora (hh:mm, 24h): 20:65\n",
            "\n",
            "Hola, sgs. Esa hora no existe.\n",
            "Introduce una hora (hh:mm, 24h): 21;50\n",
            "\n",
            "Hola, sgs. utilice formato completo (hh:mm).\n",
            "Introduce una hora (hh:mm, 24h): 21:00\n",
            "\n",
            "Hola, sgs. El saludo a utilizar a las 21:00 sería 'Buenas noches'.\n"
          ]
        }
      ]
    },
    {
      "cell_type": "markdown",
      "source": [
        "## Ejercicio 6"
      ],
      "metadata": {
        "id": "4ykLkZTVPJHa"
      }
    },
    {
      "cell_type": "markdown",
      "source": [
        "Crea una tupla de nombre **canarias** con tres elementos. El primero es una tupla que contiene el nombre de las 8 islas canarias, el segundo es otra tupla que contiene la capital de cada isla y el tercero es una lista con la temperatura media de cada capital. A continuación, muestra la información correspondiente a Las Palmas de Gran Canaria y a Santa Cruz de Tenerife. Por último, muestra la temperatura media en las capitales.\n",
        "\n",
        "**Ejemplo:**\n",
        "\n",
        "Gran Canaria\n",
        "\n",
        "Capital: Las Palmas de Gran Canaria\n",
        "\n",
        "Temperatura media: 21.0 °C\n",
        "\n",
        "Tenerife\n",
        "\n",
        "Capital: Santa Cruz de Tenerife\n",
        "\n",
        "Temperatura media: 20.0 °C\n",
        "\n",
        "Temperatura media de las capitales de Canarias: 21.5 °C\n",
        "\n"
      ],
      "metadata": {
        "id": "9bq7aZYHs8GO"
      }
    },
    {
      "cell_type": "code",
      "source": [
        "canarias = (\n",
        "    (\"Tenerife\", \"Gran Canaria\", \"Lanzarote\", \"Fuerteventura\", \"La Palma\", \"La Gomera\", \"El Hierro\", \"La Graciosa\"),  # Nombres de las islas\n",
        "    (\"Santa Cruz de Tenerife\", \"Las Palmas de Gran Canaria\", \"Arrecife\", \"Puerto del Rosario\",\n",
        "     \"Santa Cruz de La Palma\", \"San Sebastián de La Gomera\", \"Valverde\", \"Caleta de Sebo\"),  # Capitales\n",
        "    [22.0, 23.5, 24.0, 24.5, 21.0, 22.5, 21.5, 23.0]  # Temperatura media de cada capital\n",
        ")\n",
        "\n",
        "# Mostrar la información de Las Palmas de Gran Canaria y Santa Cruz de Tenerife\n",
        "print(\"Información solicitada:\\n\")\n",
        "\n",
        "# Tenerife (posición 0)\n",
        "print(f\"Isla: {canarias[0][0]}\")\n",
        "print(f\"Capital: {canarias[1][0]}\")\n",
        "print(f\"Temperatura media: {canarias[2][0]}°C\\n\")\n",
        "\n",
        "# Gran Canaria (posición 1)\n",
        "print(f\"Isla: {canarias[0][1]}\")\n",
        "print(f\"Capital: {canarias[1][1]}\")\n",
        "print(f\"Temperatura media: {canarias[2][1]}°C\\n\")\n",
        "\n",
        "# Mostrar la temperatura media total de las capitales\n",
        "media = sum(canarias[2]) / len(canarias[2])\n",
        "print(f\" Temperatura media de las capitales: {media:.1f}°C\")\n",
        "\n",
        "\n",
        "\n",
        "\n"
      ],
      "metadata": {
        "id": "1UXPFDO5UviA",
        "colab": {
          "base_uri": "https://localhost:8080/"
        },
        "outputId": "993f49c7-7824-4567-bcee-0d9117306778"
      },
      "execution_count": null,
      "outputs": [
        {
          "output_type": "stream",
          "name": "stdout",
          "text": [
            "Información solicitada:\n",
            "\n",
            "Isla: Tenerife\n",
            "Capital: Santa Cruz de Tenerife\n",
            "Temperatura media: 22.0°C\n",
            "\n",
            "Isla: Gran Canaria\n",
            "Capital: Las Palmas de Gran Canaria\n",
            "Temperatura media: 23.5°C\n",
            "\n",
            " Temperatura media de las capitales: 22.8°C\n"
          ]
        }
      ]
    },
    {
      "cell_type": "markdown",
      "source": [
        "# Estructuras de datos: Diccionarios."
      ],
      "metadata": {
        "id": "Alm808oiY9hU"
      }
    },
    {
      "cell_type": "markdown",
      "source": [
        "## Ejercicio 7"
      ],
      "metadata": {
        "id": "Ta2LQrj4ZFuB"
      }
    },
    {
      "cell_type": "markdown",
      "source": [
        "Crea un diccionario que almacene los datos de un tenista (por ahora, sólo nombre -realmente primer apellido-, altura y número de Grand Slams ganados). A continuación, crea una lista de nombre **tenistas** con información de tres tenistas e imprímela por pantalla. Por último, solicita al usuario el nombre de un tenista, muestra su información y añade el mensaje **¿Sabías que NOMBRE_JUGADOR es el que más Grand Slams ha ganado?**, donde NOMBRE_JUGADOR es el nombre del jugador que más Grand Slams ha ganado, que tendrás que buscar.\n",
        "\n",
        "**Ejemplo:**\n",
        "\n",
        "tenistas =[{'nombre': 'Nadal', 'altura': 1.85, 'n_grandslams': 22}, {'nombre': 'Djokovic', 'altura': 1.88, 'n_grandslams': 24}, {'nombre': 'Federer', 'altura': 1.85, 'n_grandslams': 20}]\n",
        "\n",
        "Introduce el nombre de un tenista: Nadal\n",
        "\n",
        "Altura: 1.85 m\n",
        "\n",
        "Grand Slams: 22\n",
        "\n",
        "¿Sabías que Djokovic es el jugador que más Grand Slams ha ganado?\n",
        "\n",
        "\n",
        "\n"
      ],
      "metadata": {
        "id": "9WDjT3xheasN"
      }
    },
    {
      "cell_type": "code",
      "source": [
        "# Crear lista de diccionarios con la información de los tenistas\n",
        "tenistas = [\n",
        "    {'nombre': 'Nadal', 'altura': 1.85, 'n_grandslams': 22},\n",
        "    {'nombre': 'Djokovic', 'altura': 1.88, 'n_grandslams': 24},\n",
        "    {'nombre': 'Federer', 'altura': 1.85, 'n_grandslams': 20}\n",
        "]\n",
        "\n",
        "# Mostrar la lista completa (opcional, solo para ver su contenido)\n",
        "print(tenistas)\n",
        "\n",
        "# Solicitar el nombre del tenista al usuario\n",
        "tenista_buscado = input(\"\\nIntroduce el nombre de un tenista: \").capitalize()\n",
        "\n",
        "# Buscar el tenista en la lista\n",
        "encontrado = next((t for t in tenistas if t['nombre'] == tenista_buscado), None)\n",
        "\n",
        "\n",
        "# Si se encuentra, mostrar su información\n",
        "if encontrado:\n",
        "    print(f\"\\nAltura: {encontrado['altura']} m\")\n",
        "    print(f\"Grand Slams: {encontrado['n_grandslams']}\")\n",
        "else:\n",
        "    print(f\"\\nNo se encontró información del tenista '{tenista_buscado}'.\")\n",
        "    exit()\n",
        "\n",
        "# Buscar el jugador con más Grand Slams\n",
        "mayor = max(tenistas, key=lambda x: x['n_grandslams'])\n",
        "\n",
        "# Mostrar el mensaje final\n",
        "print(f\"\\n¿Sabías que {mayor['nombre']} es el jugador que más Grand Slams ha ganado?\")\n"
      ],
      "metadata": {
        "id": "id6jW-TrZITk",
        "colab": {
          "base_uri": "https://localhost:8080/"
        },
        "outputId": "235790d4-76c8-44aa-a2b0-13305497d74f"
      },
      "execution_count": null,
      "outputs": [
        {
          "output_type": "stream",
          "name": "stdout",
          "text": [
            "[{'nombre': 'Nadal', 'altura': 1.85, 'n_grandslams': 22}, {'nombre': 'Djokovic', 'altura': 1.88, 'n_grandslams': 24}, {'nombre': 'Federer', 'altura': 1.85, 'n_grandslams': 20}]\n",
            "\n",
            "Introduce el nombre de un tenista: vgdh\n",
            "\n",
            "No se encontró información del tenista 'Vgdh'.\n",
            "\n",
            "¿Sabías que Djokovic es el jugador que más Grand Slams ha ganado?\n"
          ]
        }
      ]
    },
    {
      "cell_type": "markdown",
      "source": [
        "## Ejercicio 8"
      ],
      "metadata": {
        "id": "44jpaJ5sZ8EE"
      }
    },
    {
      "cell_type": "markdown",
      "source": [
        "Crea un diccionario con tu horario de clase, considerando clave el día de la semana. A continuación, solicita al usuario día de la semana y hora, para mostrarle qué módulo tiene. Haz un control de posibles errores.\n",
        "\n",
        "**Ejemplo 1:**\n",
        "\n",
        "Horario IABD 2025-26\n",
        "\n",
        "Día: Jueves\n",
        "\n",
        "Hora: 18:40\n",
        "\n",
        "Módulo: 7RO (Programación de Inteligencia Artificial)\n",
        "\n",
        "**Ejemplo 2:**\n",
        "\n",
        "Horario IABD 2025-26\n",
        "\n",
        "Día: Jueves\n",
        "\n",
        "Hora: 09:50\n",
        "\n",
        "El curso se imparte en horario de tarde.\n"
      ],
      "metadata": {
        "id": "EVV9B6_8ih0n"
      }
    },
    {
      "cell_type": "code",
      "source": [
        "corregir\n",
        "\n",
        "import re\n",
        "from datetime import time\n",
        "\n",
        "def t(hhmm):  # helper: \"HH:MM\" -> time\n",
        "    h, m = map(int, hhmm.split(\":\"))\n",
        "    return time(h, m)\n",
        "\n",
        "# Horario IABD 2025-26 (rangos por día)\n",
        "# Franjas oficiales: 16:20–17:15 | 17:15–17:45 (RECREO) | 17:45–18:40 | 18:40–19:35 | 19:35–20:30\n",
        "horario = {\n",
        "    \"Lunes\": [\n",
        "        (t(\"16:20\"), t(\"17:15\"), \"BIU (Big Data aplicado)\"),\n",
        "        (t(\"17:15\"), t(\"17:45\"), \"RECREO\"),\n",
        "        (t(\"17:45\"), t(\"18:40\"), \"BIU (Big Data aplicado)\"),\n",
        "        (t(\"18:40\"), t(\"19:35\"), \"7RO (Programación de Inteligencia Artificial)\"),\n",
        "        (t(\"19:35\"), t(\"20:30\"), None),  # sin clase\n",
        "    ],\n",
        "    \"Martes\": [\n",
        "        (t(\"16:20\"), t(\"17:15\"), \"M2D (Modelos de Inteligencia Artificial)\"),\n",
        "        (t(\"17:15\"), t(\"17:45\"), \"RECREO\"),\n",
        "        (t(\"17:45\"), t(\"18:40\"), \"M2D (Modelos de Inteligencia Artificial)\"),\n",
        "        (t(\"18:40\"), t(\"19:35\"), \"SPS (Sistemas de Big Data)\"),\n",
        "        (t(\"19:35\"), t(\"20:30\"), \"SNS (Sistemas de Aprendizaje Automático)\"),\n",
        "    ],\n",
        "    \"Miércoles\": [\n",
        "        (t(\"16:20\"), t(\"17:15\"), \"7RO (Programación de Inteligencia Artificial)\"),\n",
        "        (t(\"17:15\"), t(\"17:45\"), \"RECREO\"),\n",
        "        (t(\"17:45\"), t(\"19:35\"), \"SPS (Sistemas de Big Data)\"),  # bloque doble\n",
        "        (t(\"19:35\"), t(\"20:30\"), \"BIU (Big Data aplicado)\"),\n",
        "    ],\n",
        "    \"Jueves\": [\n",
        "        (t(\"16:20\"), t(\"17:15\"), \"SNS (Sistemas de Aprendizaje Automático)\"),\n",
        "        (t(\"17:15\"), t(\"17:45\"), \"RECREO\"),\n",
        "        (t(\"17:45\"), t(\"18:40\"), \"SNS (Sistemas de Aprendizaje Automático)\"),\n",
        "        (t(\"18:40\"), t(\"20:30\"), \"7RO (Programación de Inteligencia Artificial)\"),  # bloque doble\n",
        "    ],\n",
        "    \"Viernes\": [\n",
        "        (t(\"16:20\"), t(\"17:15\"), \"BIU (Big Data aplicado)\"),\n",
        "        (t(\"17:15\"), t(\"17:45\"), \"RECREO\"),\n",
        "        (t(\"17:45\"), t(\"18:40\"), \"BIU (Big Data aplicado)\"),\n",
        "        (t(\"18:40\"), t(\"20:30\"), \"7RO (Programación de Inteligencia Artificial)\"),  # bloque doble\n",
        "    ],\n",
        "}\n",
        "\n",
        "print(\"Horario IABD 2025-26\\n\")\n",
        "\n",
        "# --- Entrada y validación ---\n",
        "dia = input(\"Día: \").strip().capitalize()\n",
        "\n",
        "hora_txt = input(\"Hora (hh:mm): \").strip()\n",
        "if not re.fullmatch(r\"\\d{2}:\\d{2}\", hora_txt):\n",
        "    print(\"\\nFormato de hora inválido. Usa hh:mm (por ejemplo, 18:40).\")\n",
        "    raise SystemExit\n",
        "h, m = map(int, hora_txt.split(\":\"))\n",
        "if not (0 <= h <= 23 and 0 <= m <= 59):\n",
        "    print(\"\\nEsa hora no existe.\")\n",
        "    raise SystemExit\n",
        "consulta = time(h, m)\n",
        "\n",
        "# --- Comprobaciones ---\n",
        "if dia not in horario:\n",
        "    print(\"\\nDía no lectivo o no contemplado. Clases de lunes a viernes en horario de tarde.\")\n",
        "    raise SystemExit\n",
        "\n",
        "# Buscar el tramo donde cae la hora consultada\n",
        "modulo = None\n",
        "for inicio, fin, nombre in horario[dia]:\n",
        "    if inicio <= consulta < fin:\n",
        "        modulo = nombre\n",
        "        break\n",
        "\n",
        "print()  # línea en blanco\n",
        "\n",
        "if modulo == \"RECREO\":\n",
        "    print(\"RECREO (17:15–17:45)\")\n",
        "elif modulo is None:\n",
        "    # fuera de los tramos lectivos de la tarde para ese día\n",
        "    print(\"El curso se imparte en horario de tarde (16:20–20:30).\")\n",
        "else:\n",
        "    print(f\"Módulo: {modulo}\")\n"
      ],
      "metadata": {
        "id": "xBndn1p0Z-im"
      },
      "execution_count": null,
      "outputs": []
    },
    {
      "cell_type": "markdown",
      "source": [
        "## Ejercicio 9"
      ],
      "metadata": {
        "id": "suFAVjCpbNg6"
      }
    },
    {
      "cell_type": "markdown",
      "source": [
        "Crea una lista que contenga el nombre de cinco artistas o grupos musicales que te gusten. A continuación, crea otra lista con una canción de cada artista/grupo musical, almacenándola en la misma posición en la que se encuentra el artista/grupo en la primera lista. Por último, crea un diccionario uniendo las dos listas y muestra la información por pantalla en el formato que desees. Da la opción al usuario para que pueda modificar la canción."
      ],
      "metadata": {
        "id": "F3PIM4sPkEL4"
      }
    },
    {
      "cell_type": "code",
      "source": [
        "# Listas iniciales\n",
        "artistas = [\"Iron Maiden\", \"J Balvin\", \"Héctor Lavoe\", \"Fisher\", \"Desiigner\"]\n",
        "canciones = [\"Fear of the Dark\", \"Mi Gente\", \"Escarcha\", \"Losing It\", \"Panda\"]\n",
        "\n",
        "# Crear diccionario uniendo ambas listas\n",
        "musica = dict(zip(artistas, canciones))\n",
        "\n",
        "# Mostrar la información inicial\n",
        "print(\"🎵 Lista de artistas y canciones favoritas:\\n\")\n",
        "for artista, cancion in musica.items():\n",
        "    print(f\"- {artista}: '{cancion}'\")\n",
        "\n",
        "# Permitir al usuario modificar una canción\n",
        "print(\"\\n¿Quieres cambiar alguna canción?\")\n",
        "artista_mod = input(\"Escribe el nombre del artista: \").strip().title()\n",
        "\n",
        "if artista_mod in musica:\n",
        "    nueva_cancion = input(f\"Introduce la nueva canción de {artista_mod}: \").strip().title()\n",
        "    musica[artista_mod] = nueva_cancion\n",
        "    print(f\"\\n✅ Se ha actualizado la canción de {artista_mod} a '{nueva_cancion}'.\")\n",
        "else:\n",
        "    print(f\"\\n❌ El artista '{artista_mod}' no está en la lista.\")\n",
        "\n",
        "# Mostrar la lista actualizada\n",
        "print(\"\\n🎶 Lista actualizada de artistas y canciones:\\n\")\n",
        "for artista, cancion in musica.items():\n",
        "    print(f\"- {artista}: '{cancion}'\")\n"
      ],
      "metadata": {
        "id": "QUH6RbL4bQDz"
      },
      "execution_count": null,
      "outputs": []
    }
  ]
}