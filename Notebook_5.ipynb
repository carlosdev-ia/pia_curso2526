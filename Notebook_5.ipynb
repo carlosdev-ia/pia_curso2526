{
  "nbformat": 4,
  "nbformat_minor": 0,
  "metadata": {
    "colab": {
      "provenance": [],
      "include_colab_link": true
    },
    "kernelspec": {
      "name": "python3",
      "display_name": "Python 3"
    },
    "language_info": {
      "name": "python"
    }
  },
  "cells": [
    {
      "cell_type": "markdown",
      "metadata": {
        "id": "view-in-github",
        "colab_type": "text"
      },
      "source": [
        "<a href=\"https://colab.research.google.com/github/carlosdev-ia/pia_curso2526/blob/main/Notebook_5.ipynb\" target=\"_parent\"><img src=\"https://colab.research.google.com/assets/colab-badge.svg\" alt=\"Open In Colab\"/></a>"
      ]
    },
    {
      "cell_type": "markdown",
      "source": [
        "# Librería Pandas\n"
      ],
      "metadata": {
        "id": "Vtx0Qk4EWveU"
      }
    },
    {
      "cell_type": "markdown",
      "source": [
        "## Ejercicio 1\n",
        "Crea un DataFrame con los datos de varios alumnos (nombre, edad y nota media).\n",
        "Muestra las primeras filas, las columnas, el tipo de datos y un resumen estadístico."
      ],
      "metadata": {
        "id": "vizFPlJYXF9x"
      }
    },
    {
      "cell_type": "code",
      "source": [
        "import pandas as pd\n",
        "\n",
        "# Diccionario de datos\n",
        "datos = {\n",
        "    'Nombre': ['Ana', 'Luis', 'Marta', 'Pepe', 'Antonio', 'Maria'],\n",
        "    'Edad': [28, 35, 22, 24, 54, 48],\n",
        "    'nota_media': [1, 9, 8 ,7, 6, 5]\n",
        "}\n",
        "\n",
        "# Crear el DataFrame\n",
        "df = pd.DataFrame(datos)\n",
        "print(\"-\" * 40)\n",
        "\n",
        "# Mostrar el DataFrame\n",
        "print(df)\n",
        "print(\"-\" * 40)\n",
        "\n",
        "# Primeras 5 filas\n",
        "print(df.head())\n",
        "print(\"-\" * 40)\n",
        "\n",
        "# Nombres de las columnas\n",
        "print(df.columns)\n",
        "print(\"-\" * 40)\n",
        "\n",
        "# Resumen de columnas y tipos de datos\n",
        "print(df.info())\n",
        "print(\"-\" * 40)\n",
        "\n",
        "# Estadisticas básicas de columnas numéricas\n",
        "print(df.describe())\n"
      ],
      "metadata": {
        "colab": {
          "base_uri": "https://localhost:8080/"
        },
        "id": "YfNKY6TfVkg_",
        "outputId": "69759057-6a9d-4e95-81b1-d5bfbb191cc1"
      },
      "execution_count": 2,
      "outputs": [
        {
          "output_type": "stream",
          "name": "stdout",
          "text": [
            "----------------------------------------\n",
            "    Nombre  Edad  nota_media\n",
            "0      Ana    28           1\n",
            "1     Luis    35           9\n",
            "2    Marta    22           8\n",
            "3     Pepe    24           7\n",
            "4  Antonio    54           6\n",
            "5    Maria    48           5\n",
            "----------------------------------------\n",
            "    Nombre  Edad  nota_media\n",
            "0      Ana    28           1\n",
            "1     Luis    35           9\n",
            "2    Marta    22           8\n",
            "3     Pepe    24           7\n",
            "4  Antonio    54           6\n",
            "----------------------------------------\n",
            "Index(['Nombre', 'Edad', 'nota_media'], dtype='object')\n",
            "----------------------------------------\n",
            "<class 'pandas.core.frame.DataFrame'>\n",
            "RangeIndex: 6 entries, 0 to 5\n",
            "Data columns (total 3 columns):\n",
            " #   Column      Non-Null Count  Dtype \n",
            "---  ------      --------------  ----- \n",
            " 0   Nombre      6 non-null      object\n",
            " 1   Edad        6 non-null      int64 \n",
            " 2   nota_media  6 non-null      int64 \n",
            "dtypes: int64(2), object(1)\n",
            "memory usage: 276.0+ bytes\n",
            "None\n",
            "----------------------------------------\n",
            "            Edad  nota_media\n",
            "count   6.000000    6.000000\n",
            "mean   35.166667    6.000000\n",
            "std    13.182059    2.828427\n",
            "min    22.000000    1.000000\n",
            "25%    25.000000    5.250000\n",
            "50%    31.500000    6.500000\n",
            "75%    44.750000    7.750000\n",
            "max    54.000000    9.000000\n"
          ]
        }
      ]
    },
    {
      "cell_type": "markdown",
      "source": [
        "## Ejercicio 2\n",
        "Usando el mismo DataFrame del ejercicio anterior, muestra solo los alumnos que tengan una nota media mayor o igual a 8."
      ],
      "metadata": {
        "id": "n7_URLupXTHD"
      }
    },
    {
      "cell_type": "code",
      "source": [
        "mayor8 = df[df['nota_media'] >= 8]\n",
        "print(mayor8)"
      ],
      "metadata": {
        "colab": {
          "base_uri": "https://localhost:8080/"
        },
        "id": "duDgzmzydCG4",
        "outputId": "bbfee195-aecc-4d88-d8ba-528b646a9936"
      },
      "execution_count": null,
      "outputs": [
        {
          "output_type": "stream",
          "name": "stdout",
          "text": [
            "  Nombre  Edad  nota_media\n",
            "1   Luis    35           9\n",
            "2  Marta    22           8\n"
          ]
        }
      ]
    },
    {
      "cell_type": "markdown",
      "source": [
        "## Ejercicio 3\n",
        "Añade una nueva columna llamada \"Aprobado\" que indique **True** si la nota media es mayor o igual a 5 y **False** en caso contrario."
      ],
      "metadata": {
        "id": "xr8kA7qGXi6D"
      }
    },
    {
      "cell_type": "code",
      "source": [
        "df['Aprobado'] =  df['nota_media'] >= 5\n",
        "print(df)"
      ],
      "metadata": {
        "colab": {
          "base_uri": "https://localhost:8080/"
        },
        "id": "RrYkbnTMdQUs",
        "outputId": "55dbae02-9daf-488a-e54e-2761d6090262"
      },
      "execution_count": null,
      "outputs": [
        {
          "output_type": "stream",
          "name": "stdout",
          "text": [
            "    Nombre  Edad  nota_media  Aprobado\n",
            "0      Ana    28           1     False\n",
            "1     Luis    35           9      True\n",
            "2    Marta    22           8      True\n",
            "3     Pepe    24           7      True\n",
            "4  Antonio    54           6      True\n",
            "5    Maria    48           5      True\n"
          ]
        }
      ]
    },
    {
      "cell_type": "markdown",
      "source": [
        "## Ejercicio 4\n",
        "Descarga o crea un archivo CSV llamado \"ventas.csv\" con las siguientes columnas: Producto, Precio, Cantidad.\n",
        "Léelo con pandas, calcula una columna \"Total\" (precio × cantidad) y muestra el total general de ventas.\n",
        "Ejemplo del contendio del .csv (ventas.csv):\n",
        "* Producto,Precio,Cantidad\n",
        "* Teclado,25,10\n",
        "* Ratón,15,8\n",
        "* Monitor,200,3\n",
        "* Auriculares,30,5\n",
        "\n",
        "Recuerda: para acceder a un fichero puedes hacer:\n",
        "\n",
        "* Montar Drive mediante los comandos:\n",
        "  * from google.colab import drive\n",
        "  * drive.mount('/content/drive')\n",
        "* uploaded = files.upload()\n"
      ],
      "metadata": {
        "id": "XjfVzI6jYDyV"
      }
    },
    {
      "cell_type": "code",
      "source": [
        "from google.colab import files\n",
        "uploaded = files.upload()\n",
        "df = pd.read_csv('ventas.csv')\n",
        "print(df)"
      ],
      "metadata": {
        "colab": {
          "base_uri": "https://localhost:8080/",
          "height": 177
        },
        "id": "1SnuKrfqe225",
        "outputId": "2b57d729-a500-48fc-ede9-3dd7d3128be7"
      },
      "execution_count": 3,
      "outputs": [
        {
          "output_type": "display_data",
          "data": {
            "text/plain": [
              "<IPython.core.display.HTML object>"
            ],
            "text/html": [
              "\n",
              "     <input type=\"file\" id=\"files-7b9ae308-7b5f-4aaf-b9e7-e4b399494fbe\" name=\"files[]\" multiple disabled\n",
              "        style=\"border:none\" />\n",
              "     <output id=\"result-7b9ae308-7b5f-4aaf-b9e7-e4b399494fbe\">\n",
              "      Upload widget is only available when the cell has been executed in the\n",
              "      current browser session. Please rerun this cell to enable.\n",
              "      </output>\n",
              "      <script>// Copyright 2017 Google LLC\n",
              "//\n",
              "// Licensed under the Apache License, Version 2.0 (the \"License\");\n",
              "// you may not use this file except in compliance with the License.\n",
              "// You may obtain a copy of the License at\n",
              "//\n",
              "//      http://www.apache.org/licenses/LICENSE-2.0\n",
              "//\n",
              "// Unless required by applicable law or agreed to in writing, software\n",
              "// distributed under the License is distributed on an \"AS IS\" BASIS,\n",
              "// WITHOUT WARRANTIES OR CONDITIONS OF ANY KIND, either express or implied.\n",
              "// See the License for the specific language governing permissions and\n",
              "// limitations under the License.\n",
              "\n",
              "/**\n",
              " * @fileoverview Helpers for google.colab Python module.\n",
              " */\n",
              "(function(scope) {\n",
              "function span(text, styleAttributes = {}) {\n",
              "  const element = document.createElement('span');\n",
              "  element.textContent = text;\n",
              "  for (const key of Object.keys(styleAttributes)) {\n",
              "    element.style[key] = styleAttributes[key];\n",
              "  }\n",
              "  return element;\n",
              "}\n",
              "\n",
              "// Max number of bytes which will be uploaded at a time.\n",
              "const MAX_PAYLOAD_SIZE = 100 * 1024;\n",
              "\n",
              "function _uploadFiles(inputId, outputId) {\n",
              "  const steps = uploadFilesStep(inputId, outputId);\n",
              "  const outputElement = document.getElementById(outputId);\n",
              "  // Cache steps on the outputElement to make it available for the next call\n",
              "  // to uploadFilesContinue from Python.\n",
              "  outputElement.steps = steps;\n",
              "\n",
              "  return _uploadFilesContinue(outputId);\n",
              "}\n",
              "\n",
              "// This is roughly an async generator (not supported in the browser yet),\n",
              "// where there are multiple asynchronous steps and the Python side is going\n",
              "// to poll for completion of each step.\n",
              "// This uses a Promise to block the python side on completion of each step,\n",
              "// then passes the result of the previous step as the input to the next step.\n",
              "function _uploadFilesContinue(outputId) {\n",
              "  const outputElement = document.getElementById(outputId);\n",
              "  const steps = outputElement.steps;\n",
              "\n",
              "  const next = steps.next(outputElement.lastPromiseValue);\n",
              "  return Promise.resolve(next.value.promise).then((value) => {\n",
              "    // Cache the last promise value to make it available to the next\n",
              "    // step of the generator.\n",
              "    outputElement.lastPromiseValue = value;\n",
              "    return next.value.response;\n",
              "  });\n",
              "}\n",
              "\n",
              "/**\n",
              " * Generator function which is called between each async step of the upload\n",
              " * process.\n",
              " * @param {string} inputId Element ID of the input file picker element.\n",
              " * @param {string} outputId Element ID of the output display.\n",
              " * @return {!Iterable<!Object>} Iterable of next steps.\n",
              " */\n",
              "function* uploadFilesStep(inputId, outputId) {\n",
              "  const inputElement = document.getElementById(inputId);\n",
              "  inputElement.disabled = false;\n",
              "\n",
              "  const outputElement = document.getElementById(outputId);\n",
              "  outputElement.innerHTML = '';\n",
              "\n",
              "  const pickedPromise = new Promise((resolve) => {\n",
              "    inputElement.addEventListener('change', (e) => {\n",
              "      resolve(e.target.files);\n",
              "    });\n",
              "  });\n",
              "\n",
              "  const cancel = document.createElement('button');\n",
              "  inputElement.parentElement.appendChild(cancel);\n",
              "  cancel.textContent = 'Cancel upload';\n",
              "  const cancelPromise = new Promise((resolve) => {\n",
              "    cancel.onclick = () => {\n",
              "      resolve(null);\n",
              "    };\n",
              "  });\n",
              "\n",
              "  // Wait for the user to pick the files.\n",
              "  const files = yield {\n",
              "    promise: Promise.race([pickedPromise, cancelPromise]),\n",
              "    response: {\n",
              "      action: 'starting',\n",
              "    }\n",
              "  };\n",
              "\n",
              "  cancel.remove();\n",
              "\n",
              "  // Disable the input element since further picks are not allowed.\n",
              "  inputElement.disabled = true;\n",
              "\n",
              "  if (!files) {\n",
              "    return {\n",
              "      response: {\n",
              "        action: 'complete',\n",
              "      }\n",
              "    };\n",
              "  }\n",
              "\n",
              "  for (const file of files) {\n",
              "    const li = document.createElement('li');\n",
              "    li.append(span(file.name, {fontWeight: 'bold'}));\n",
              "    li.append(span(\n",
              "        `(${file.type || 'n/a'}) - ${file.size} bytes, ` +\n",
              "        `last modified: ${\n",
              "            file.lastModifiedDate ? file.lastModifiedDate.toLocaleDateString() :\n",
              "                                    'n/a'} - `));\n",
              "    const percent = span('0% done');\n",
              "    li.appendChild(percent);\n",
              "\n",
              "    outputElement.appendChild(li);\n",
              "\n",
              "    const fileDataPromise = new Promise((resolve) => {\n",
              "      const reader = new FileReader();\n",
              "      reader.onload = (e) => {\n",
              "        resolve(e.target.result);\n",
              "      };\n",
              "      reader.readAsArrayBuffer(file);\n",
              "    });\n",
              "    // Wait for the data to be ready.\n",
              "    let fileData = yield {\n",
              "      promise: fileDataPromise,\n",
              "      response: {\n",
              "        action: 'continue',\n",
              "      }\n",
              "    };\n",
              "\n",
              "    // Use a chunked sending to avoid message size limits. See b/62115660.\n",
              "    let position = 0;\n",
              "    do {\n",
              "      const length = Math.min(fileData.byteLength - position, MAX_PAYLOAD_SIZE);\n",
              "      const chunk = new Uint8Array(fileData, position, length);\n",
              "      position += length;\n",
              "\n",
              "      const base64 = btoa(String.fromCharCode.apply(null, chunk));\n",
              "      yield {\n",
              "        response: {\n",
              "          action: 'append',\n",
              "          file: file.name,\n",
              "          data: base64,\n",
              "        },\n",
              "      };\n",
              "\n",
              "      let percentDone = fileData.byteLength === 0 ?\n",
              "          100 :\n",
              "          Math.round((position / fileData.byteLength) * 100);\n",
              "      percent.textContent = `${percentDone}% done`;\n",
              "\n",
              "    } while (position < fileData.byteLength);\n",
              "  }\n",
              "\n",
              "  // All done.\n",
              "  yield {\n",
              "    response: {\n",
              "      action: 'complete',\n",
              "    }\n",
              "  };\n",
              "}\n",
              "\n",
              "scope.google = scope.google || {};\n",
              "scope.google.colab = scope.google.colab || {};\n",
              "scope.google.colab._files = {\n",
              "  _uploadFiles,\n",
              "  _uploadFilesContinue,\n",
              "};\n",
              "})(self);\n",
              "</script> "
            ]
          },
          "metadata": {}
        },
        {
          "output_type": "stream",
          "name": "stdout",
          "text": [
            "Saving ventas.csv to ventas (1).csv\n",
            "    Producto   Precio  Cantidad\n",
            "0     Laptop  1200.50         2\n",
            "1      Mouse    20.99        10\n",
            "2    Teclado    35.75         5\n",
            "3    Monitor   199.99         3\n",
            "4  Impresora   150.00         1\n"
          ]
        }
      ]
    },
    {
      "cell_type": "code",
      "source": [
        "\n",
        "\n",
        "from google.colab import drive\n",
        "drive.mount('/content/drive')\n",
        "#df = pd.read_csv('/content/drive/MyDrive/ventas.csv')\n",
        "df = pd.read_csv('/content/drive/MyDrive/7RO/ventas.csv')\n",
        "\n",
        "print(df)\n",
        "\n",
        "\n"
      ],
      "metadata": {
        "colab": {
          "base_uri": "https://localhost:8080/",
          "height": 157
        },
        "id": "O1jEy5-MgNui",
        "outputId": "d55378dd-a693-431f-b096-cb29e2c4d910"
      },
      "execution_count": 4,
      "outputs": [
        {
          "output_type": "stream",
          "name": "stdout",
          "text": [
            "Mounted at /content/drive\n",
            "    Producto   Precio  Cantidad\n",
            "0     Laptop  1200.50         2\n",
            "1      Mouse    20.99        10\n",
            "2    Teclado    35.75         5\n",
            "3    Monitor   199.99         3\n",
            "4  Impresora   150.00         1\n"
          ]
        },
        {
          "output_type": "execute_result",
          "data": {
            "text/plain": [
              "\"print(os.getcwd())\\nprint(os.listdir())\\nprint(os.listdir('/content/drive/My Drive'))\""
            ],
            "application/vnd.google.colaboratory.intrinsic+json": {
              "type": "string"
            }
          },
          "metadata": {},
          "execution_count": 4
        }
      ]
    },
    {
      "cell_type": "markdown",
      "source": [
        "## Ejercicio 5\n",
        "Crea un DataFrame con datos de ventas por vendedor y producto.\n",
        "Calcula la suma total de ventas por vendedor usando **groupby**."
      ],
      "metadata": {
        "id": "0MDczD22Y2y1"
      }
    },
    {
      "cell_type": "code",
      "source": [
        "import pandas as pd\n",
        "\n",
        "# Crear un DataFrame con datos de ventas\n",
        "datos = {\n",
        "    'Vendedor': ['Ana', 'Luis', 'Ana', 'Carlos', 'Luis', 'Carlos'],\n",
        "    'Producto': ['A', 'B', 'C', 'A', 'C', 'B'],\n",
        "    'Ventas': [1200, 1500, 900, 2000, 1800, 1600]\n",
        "}\n",
        "\n",
        "df = pd.DataFrame(datos)\n",
        "\n",
        "# Mostrar el DataFrame\n",
        "print(\"Datos de ventas:\")\n",
        "print(df)\n",
        "\n",
        "# Calcular la suma total de ventas por vendedor\n",
        "total_ventas = df.groupby('Vendedor')['Ventas'].sum()\n",
        "\n",
        "print(\"\\nTotal de ventas por vendedor:\")\n",
        "print(total_ventas)\n"
      ],
      "metadata": {
        "colab": {
          "base_uri": "https://localhost:8080/"
        },
        "id": "tw-CBfk3E2at",
        "outputId": "c0d1a3d9-a9d7-4b0a-bee0-04136b417075"
      },
      "execution_count": 5,
      "outputs": [
        {
          "output_type": "stream",
          "name": "stdout",
          "text": [
            "Datos de ventas:\n",
            "  Vendedor Producto  Ventas\n",
            "0      Ana        A    1200\n",
            "1     Luis        B    1500\n",
            "2      Ana        C     900\n",
            "3   Carlos        A    2000\n",
            "4     Luis        C    1800\n",
            "5   Carlos        B    1600\n",
            "\n",
            "Total de ventas por vendedor:\n",
            "Vendedor\n",
            "Ana       2100\n",
            "Carlos    3600\n",
            "Luis      3300\n",
            "Name: Ventas, dtype: int64\n"
          ]
        }
      ]
    },
    {
      "cell_type": "markdown",
      "source": [
        "## Ejercicio 6\n",
        "Ordena las ventas por importe descendente y guarda el resultado en un nuevo archivo CSV llamado \"ventas_ordenadas.csv\"."
      ],
      "metadata": {
        "id": "BOARuFt4ZdIE"
      }
    },
    {
      "cell_type": "code",
      "source": [
        "import pandas as pd\n",
        "\n",
        "# Crear un DataFrame con datos de ventas\n",
        "datos = {\n",
        "    'Vendedor': ['Ana', 'Luis', 'Ana', 'Carlos', 'Luis', 'Carlos'],\n",
        "    'Producto': ['A', 'B', 'C', 'A', 'C', 'B'],\n",
        "    'Ventas': [1200, 1500, 900, 2000, 1800, 1600]\n",
        "}\n",
        "\n",
        "df = pd.DataFrame(datos)\n",
        "\n",
        "# Mostrar el DataFrame\n",
        "print(\"Datos de ventas:\")\n",
        "print(df)\n",
        "\n",
        "# Ordenar las ventas por importe descendente\n",
        "df_ordenado = df.sort_values(by='Ventas', ascending=False)\n",
        "\n",
        "# Mostrar el resultado ordenado\n",
        "print(\"Datos de ventas ordenados por importe descendente:\")\n",
        "print(df_ordenado)\n",
        "\n",
        "# Guardar en un nuevo archivo CSV\n",
        "df_ordenado.to_csv(\"ventas_ordenadas.csv\", index=False)\n",
        "\n",
        "print(\"\\nArchivo 'ventas_ordenadas.csv' creado correctamente en  el entorno de colab /content.\")\n",
        "!ls -l /content\n",
        "\n",
        "from google.colab import files\n",
        "files.download(\"ventas_ordenadas.csv\")\n",
        "print(\"\\nArchivo 'ventas_ordenadas.csv' descargado correctamente.\")"
      ],
      "metadata": {
        "colab": {
          "base_uri": "https://localhost:8080/",
          "height": 468
        },
        "id": "3LZoVEasGQ8f",
        "outputId": "21909ce7-8785-4932-efa5-6d9b9a57c9b8"
      },
      "execution_count": 8,
      "outputs": [
        {
          "output_type": "stream",
          "name": "stdout",
          "text": [
            "Datos de ventas:\n",
            "  Vendedor Producto  Ventas\n",
            "0      Ana        A    1200\n",
            "1     Luis        B    1500\n",
            "2      Ana        C     900\n",
            "3   Carlos        A    2000\n",
            "4     Luis        C    1800\n",
            "5   Carlos        B    1600\n",
            "Datos de ventas ordenados por importe descendente:\n",
            "  Vendedor Producto  Ventas\n",
            "3   Carlos        A    2000\n",
            "4     Luis        C    1800\n",
            "5   Carlos        B    1600\n",
            "1     Luis        B    1500\n",
            "0      Ana        A    1200\n",
            "2      Ana        C     900\n",
            "\n",
            "Archivo 'ventas_ordenadas.csv' creado correctamente en  el entorno de colab /content.\n",
            "total 20\n",
            "drwx------ 5 root root 4096 Oct 27 19:09  drive\n",
            "drwxr-xr-x 1 root root 4096 Oct 24 13:37  sample_data\n",
            "-rw-r--r-- 1 root root  107 Oct 27 19:08 'ventas (1).csv'\n",
            "-rw-r--r-- 1 root root  107 Oct 27 19:07  ventas.csv\n",
            "-rw-r--r-- 1 root root   98 Oct 27 19:28  ventas_ordenadas.csv\n"
          ]
        },
        {
          "output_type": "display_data",
          "data": {
            "text/plain": [
              "<IPython.core.display.Javascript object>"
            ],
            "application/javascript": [
              "\n",
              "    async function download(id, filename, size) {\n",
              "      if (!google.colab.kernel.accessAllowed) {\n",
              "        return;\n",
              "      }\n",
              "      const div = document.createElement('div');\n",
              "      const label = document.createElement('label');\n",
              "      label.textContent = `Downloading \"${filename}\": `;\n",
              "      div.appendChild(label);\n",
              "      const progress = document.createElement('progress');\n",
              "      progress.max = size;\n",
              "      div.appendChild(progress);\n",
              "      document.body.appendChild(div);\n",
              "\n",
              "      const buffers = [];\n",
              "      let downloaded = 0;\n",
              "\n",
              "      const channel = await google.colab.kernel.comms.open(id);\n",
              "      // Send a message to notify the kernel that we're ready.\n",
              "      channel.send({})\n",
              "\n",
              "      for await (const message of channel.messages) {\n",
              "        // Send a message to notify the kernel that we're ready.\n",
              "        channel.send({})\n",
              "        if (message.buffers) {\n",
              "          for (const buffer of message.buffers) {\n",
              "            buffers.push(buffer);\n",
              "            downloaded += buffer.byteLength;\n",
              "            progress.value = downloaded;\n",
              "          }\n",
              "        }\n",
              "      }\n",
              "      const blob = new Blob(buffers, {type: 'application/binary'});\n",
              "      const a = document.createElement('a');\n",
              "      a.href = window.URL.createObjectURL(blob);\n",
              "      a.download = filename;\n",
              "      div.appendChild(a);\n",
              "      a.click();\n",
              "      div.remove();\n",
              "    }\n",
              "  "
            ]
          },
          "metadata": {}
        },
        {
          "output_type": "display_data",
          "data": {
            "text/plain": [
              "<IPython.core.display.Javascript object>"
            ],
            "application/javascript": [
              "download(\"download_7e6644f6-c0ab-4378-9a7b-a0ca28e2bb80\", \"ventas_ordenadas.csv\", 98)"
            ]
          },
          "metadata": {}
        },
        {
          "output_type": "stream",
          "name": "stdout",
          "text": [
            "\n",
            "Archivo 'ventas_ordenadas.csv' descargado correctamente.\n"
          ]
        }
      ]
    }
  ]
}